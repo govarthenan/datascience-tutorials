{
 "cells": [
  {
   "cell_type": "markdown",
   "metadata": {},
   "source": [
    "# The Pandas DataFrame: Make Working With Data Delightful\n",
    "\n",
    "**Article Link: https://realpython.com/pandas-dataframe/**  \n",
    "\n",
    "In this tutorial, you’ll learn:\n",
    "\n",
    "* What a Pandas DataFrame is and how to create one\n",
    "* How to access, modify, add, sort, filter, and delete data\n",
    "* How to handle missing values\n",
    "* How to work with time-series data\n",
    "* How to quickly visualize data"
   ]
  },
  {
   "cell_type": "code",
   "execution_count": 116,
   "metadata": {},
   "outputs": [],
   "source": [
    "import pandas as pd\n",
    "import numpy as np"
   ]
  },
  {
   "cell_type": "markdown",
   "metadata": {},
   "source": [
    "## Intro"
   ]
  },
  {
   "cell_type": "code",
   "execution_count": 117,
   "metadata": {},
   "outputs": [
    {
     "data": {
      "text/html": [
       "<div>\n",
       "<style scoped>\n",
       "    .dataframe tbody tr th:only-of-type {\n",
       "        vertical-align: middle;\n",
       "    }\n",
       "\n",
       "    .dataframe tbody tr th {\n",
       "        vertical-align: top;\n",
       "    }\n",
       "\n",
       "    .dataframe thead th {\n",
       "        text-align: right;\n",
       "    }\n",
       "</style>\n",
       "<table border=\"1\" class=\"dataframe\">\n",
       "  <thead>\n",
       "    <tr style=\"text-align: right;\">\n",
       "      <th></th>\n",
       "      <th>name</th>\n",
       "      <th>age</th>\n",
       "      <th>skill</th>\n",
       "      <th>country</th>\n",
       "      <th>is_disabled</th>\n",
       "    </tr>\n",
       "  </thead>\n",
       "  <tbody>\n",
       "    <tr>\n",
       "      <th>a</th>\n",
       "      <td>Ananth</td>\n",
       "      <td>21</td>\n",
       "      <td>data science</td>\n",
       "      <td>Sri Lanka</td>\n",
       "      <td>True</td>\n",
       "    </tr>\n",
       "    <tr>\n",
       "      <th>b</th>\n",
       "      <td>John</td>\n",
       "      <td>27</td>\n",
       "      <td>machine learning</td>\n",
       "      <td>United Kingdom</td>\n",
       "      <td>False</td>\n",
       "    </tr>\n",
       "    <tr>\n",
       "      <th>c</th>\n",
       "      <td>Wong</td>\n",
       "      <td>24</td>\n",
       "      <td>front end designing</td>\n",
       "      <td>China</td>\n",
       "      <td>False</td>\n",
       "    </tr>\n",
       "    <tr>\n",
       "      <th>d</th>\n",
       "      <td>Souza</td>\n",
       "      <td>33</td>\n",
       "      <td>UI and UX</td>\n",
       "      <td>Netherlands</td>\n",
       "      <td>False</td>\n",
       "    </tr>\n",
       "    <tr>\n",
       "      <th>e</th>\n",
       "      <td>Jane</td>\n",
       "      <td>19</td>\n",
       "      <td>3D modelling</td>\n",
       "      <td>USA</td>\n",
       "      <td>True</td>\n",
       "    </tr>\n",
       "  </tbody>\n",
       "</table>\n",
       "</div>"
      ],
      "text/plain": [
       "     name  age                skill         country  is_disabled\n",
       "a  Ananth   21         data science       Sri Lanka         True\n",
       "b    John   27     machine learning  United Kingdom        False\n",
       "c    Wong   24  front end designing           China        False\n",
       "d   Souza   33            UI and UX     Netherlands        False\n",
       "e    Jane   19         3D modelling             USA         True"
      ]
     },
     "metadata": {},
     "output_type": "display_data"
    }
   ],
   "source": [
    "# create a smaple dataframe from dictionary\n",
    "user_data = {\n",
    "    'name': ['Ananth', 'John', 'Wong', 'Souza', 'Jane'],\n",
    "    'age': [21, 27, 24, 33, 19],\n",
    "    'skill': ['data science', 'machine learning', 'front end designing', 'UI and UX', '3D modelling'],\n",
    "    'country': ['Sri Lanka', 'United Kingdom', 'China', 'Netherlands', 'USA'],\n",
    "    'is_disabled': [True, False, False, False, True]\n",
    "    }\n",
    "row_labels = ['a', 'b', 'c', 'd', 'e']\n",
    "\n",
    "\n",
    "df0 = pd.DataFrame(user_data, index=row_labels)\n",
    "\n",
    "display(df0)"
   ]
  },
  {
   "cell_type": "code",
   "execution_count": 118,
   "metadata": {},
   "outputs": [
    {
     "data": {
      "text/plain": [
       "a           data science\n",
       "b       machine learning\n",
       "c    front end designing\n",
       "d              UI and UX\n",
       "e           3D modelling\n",
       "Name: skill, dtype: object"
      ]
     },
     "metadata": {},
     "output_type": "display_data"
    }
   ],
   "source": [
    "# if the column name is a valid Python identifier, the column can be accessd using dot notation\n",
    "display(df0.skill)"
   ]
  },
  {
   "cell_type": "code",
   "execution_count": 119,
   "metadata": {},
   "outputs": [
    {
     "data": {
      "text/plain": [
       "'front end designing'"
      ]
     },
     "metadata": {},
     "output_type": "display_data"
    },
    {
     "data": {
      "text/plain": [
       "name                          Wong\n",
       "age                             24\n",
       "skill          front end designing\n",
       "country                      China\n",
       "is_disabled                  False\n",
       "Name: c, dtype: object"
      ]
     },
     "execution_count": 119,
     "metadata": {},
     "output_type": "execute_result"
    }
   ],
   "source": [
    "# using index like dicitoinary key\n",
    "display(df0.skill['c'])\n",
    "\n",
    "# this won't work\n",
    "# display(df0['b'])\n",
    "\n",
    "# instead, loc can be used\n",
    "df0.loc['c']"
   ]
  },
  {
   "cell_type": "code",
   "execution_count": 120,
   "metadata": {},
   "outputs": [],
   "source": [
    "df = pd.DataFrame(user_data)"
   ]
  },
  {
   "cell_type": "markdown",
   "metadata": {},
   "source": [
    "## Creating a Pandas DataFrame"
   ]
  },
  {
   "cell_type": "code",
   "execution_count": 121,
   "metadata": {},
   "outputs": [
    {
     "data": {
      "text/html": [
       "<div>\n",
       "<style scoped>\n",
       "    .dataframe tbody tr th:only-of-type {\n",
       "        vertical-align: middle;\n",
       "    }\n",
       "\n",
       "    .dataframe tbody tr th {\n",
       "        vertical-align: top;\n",
       "    }\n",
       "\n",
       "    .dataframe thead th {\n",
       "        text-align: right;\n",
       "    }\n",
       "</style>\n",
       "<table border=\"1\" class=\"dataframe\">\n",
       "  <thead>\n",
       "    <tr style=\"text-align: right;\">\n",
       "      <th></th>\n",
       "      <th>x</th>\n",
       "      <th>y</th>\n",
       "      <th>z</th>\n",
       "    </tr>\n",
       "  </thead>\n",
       "  <tbody>\n",
       "    <tr>\n",
       "      <th>0</th>\n",
       "      <td>1</td>\n",
       "      <td>2</td>\n",
       "      <td>100</td>\n",
       "    </tr>\n",
       "    <tr>\n",
       "      <th>1</th>\n",
       "      <td>2</td>\n",
       "      <td>4</td>\n",
       "      <td>100</td>\n",
       "    </tr>\n",
       "    <tr>\n",
       "      <th>2</th>\n",
       "      <td>3</td>\n",
       "      <td>6</td>\n",
       "      <td>100</td>\n",
       "    </tr>\n",
       "  </tbody>\n",
       "</table>\n",
       "</div>"
      ],
      "text/plain": [
       "   x  y    z\n",
       "0  1  2  100\n",
       "1  2  4  100\n",
       "2  3  6  100"
      ]
     },
     "metadata": {},
     "output_type": "display_data"
    }
   ],
   "source": [
    "# from a dicitionary\n",
    "dict1 = {\"x\": [1, 2, 3],\n",
    "         \"y\": np.array([2, 4, 6]),\n",
    "         \"z\": 100}  \n",
    "\n",
    "df1 = pd.DataFrame(dict1)\n",
    "display(df1)\n"
   ]
  },
  {
   "cell_type": "code",
   "execution_count": 122,
   "metadata": {},
   "outputs": [
    {
     "data": {
      "text/html": [
       "<div>\n",
       "<style scoped>\n",
       "    .dataframe tbody tr th:only-of-type {\n",
       "        vertical-align: middle;\n",
       "    }\n",
       "\n",
       "    .dataframe tbody tr th {\n",
       "        vertical-align: top;\n",
       "    }\n",
       "\n",
       "    .dataframe thead th {\n",
       "        text-align: right;\n",
       "    }\n",
       "</style>\n",
       "<table border=\"1\" class=\"dataframe\">\n",
       "  <thead>\n",
       "    <tr style=\"text-align: right;\">\n",
       "      <th></th>\n",
       "      <th>x</th>\n",
       "      <th>y</th>\n",
       "      <th>z</th>\n",
       "    </tr>\n",
       "  </thead>\n",
       "  <tbody>\n",
       "    <tr>\n",
       "      <th>0</th>\n",
       "      <td>1</td>\n",
       "      <td>2</td>\n",
       "      <td>3</td>\n",
       "    </tr>\n",
       "    <tr>\n",
       "      <th>1</th>\n",
       "      <td>4</td>\n",
       "      <td>5</td>\n",
       "      <td>6</td>\n",
       "    </tr>\n",
       "    <tr>\n",
       "      <th>2</th>\n",
       "      <td>7</td>\n",
       "      <td>8</td>\n",
       "      <td>9</td>\n",
       "    </tr>\n",
       "  </tbody>\n",
       "</table>\n",
       "</div>"
      ],
      "text/plain": [
       "   x  y  z\n",
       "0  1  2  3\n",
       "1  4  5  6\n",
       "2  7  8  9"
      ]
     },
     "metadata": {},
     "output_type": "display_data"
    },
    {
     "data": {
      "text/html": [
       "<div>\n",
       "<style scoped>\n",
       "    .dataframe tbody tr th:only-of-type {\n",
       "        vertical-align: middle;\n",
       "    }\n",
       "\n",
       "    .dataframe tbody tr th {\n",
       "        vertical-align: top;\n",
       "    }\n",
       "\n",
       "    .dataframe thead th {\n",
       "        text-align: right;\n",
       "    }\n",
       "</style>\n",
       "<table border=\"1\" class=\"dataframe\">\n",
       "  <thead>\n",
       "    <tr style=\"text-align: right;\">\n",
       "      <th></th>\n",
       "      <th>x</th>\n",
       "      <th>y</th>\n",
       "      <th>z</th>\n",
       "    </tr>\n",
       "  </thead>\n",
       "  <tbody>\n",
       "    <tr>\n",
       "      <th>0</th>\n",
       "      <td>3.0</td>\n",
       "      <td>NaN</td>\n",
       "      <td>NaN</td>\n",
       "    </tr>\n",
       "    <tr>\n",
       "      <th>1</th>\n",
       "      <td>NaN</td>\n",
       "      <td>6.0</td>\n",
       "      <td>NaN</td>\n",
       "    </tr>\n",
       "    <tr>\n",
       "      <th>2</th>\n",
       "      <td>NaN</td>\n",
       "      <td>NaN</td>\n",
       "      <td>9.0</td>\n",
       "    </tr>\n",
       "  </tbody>\n",
       "</table>\n",
       "</div>"
      ],
      "text/plain": [
       "     x    y    z\n",
       "0  3.0  NaN  NaN\n",
       "1  NaN  6.0  NaN\n",
       "2  NaN  NaN  9.0"
      ]
     },
     "metadata": {},
     "output_type": "display_data"
    },
    {
     "data": {
      "text/html": [
       "<div>\n",
       "<style scoped>\n",
       "    .dataframe tbody tr th:only-of-type {\n",
       "        vertical-align: middle;\n",
       "    }\n",
       "\n",
       "    .dataframe tbody tr th {\n",
       "        vertical-align: top;\n",
       "    }\n",
       "\n",
       "    .dataframe thead th {\n",
       "        text-align: right;\n",
       "    }\n",
       "</style>\n",
       "<table border=\"1\" class=\"dataframe\">\n",
       "  <thead>\n",
       "    <tr style=\"text-align: right;\">\n",
       "      <th></th>\n",
       "      <th>x</th>\n",
       "      <th>y</th>\n",
       "      <th>z</th>\n",
       "    </tr>\n",
       "  </thead>\n",
       "  <tbody>\n",
       "    <tr>\n",
       "      <th>0</th>\n",
       "      <td>11</td>\n",
       "      <td>22</td>\n",
       "      <td>33</td>\n",
       "    </tr>\n",
       "    <tr>\n",
       "      <th>1</th>\n",
       "      <td>14</td>\n",
       "      <td>25</td>\n",
       "      <td>36</td>\n",
       "    </tr>\n",
       "    <tr>\n",
       "      <th>2</th>\n",
       "      <td>17</td>\n",
       "      <td>30</td>\n",
       "      <td>39</td>\n",
       "    </tr>\n",
       "  </tbody>\n",
       "</table>\n",
       "</div>"
      ],
      "text/plain": [
       "    x   y   z\n",
       "0  11  22  33\n",
       "1  14  25  36\n",
       "2  17  30  39"
      ]
     },
     "metadata": {},
     "output_type": "display_data"
    }
   ],
   "source": [
    "# from a list of dictionaries\n",
    "list2 = [\n",
    "    {'x': 1, 'y': 2, 'z': 3},\n",
    "    {'x': 4, 'y': 5, 'z': 6},\n",
    "    {'x': 7, 'y': 8, 'z': 9}\n",
    "]\n",
    "df2 = pd.DataFrame(list2)\n",
    "display(df2)\n",
    "\n",
    "\n",
    "#  this one won't work properly\n",
    "list3 = [\n",
    "    {'x': 1, 'x': 2, 'x': 3},\n",
    "    {'y': 4, 'y': 5, 'y': 6},\n",
    "    {'z': 7, 'z': 8, 'z': 9}\n",
    "]\n",
    "df3 = pd.DataFrame(list3)\n",
    "display(df3)\n",
    "\n",
    "\n",
    "# from a list of lists\n",
    "list4 = [\n",
    "    [11, 22, 33],\n",
    "    [14, 25, 36],\n",
    "    [17, 30, 39]\n",
    "]\n",
    "df4 = pd.DataFrame(list4, columns=['x', 'y', 'z'])  # column names have to passed in explicitly, otherwise they would be auto named using integers, like index\n",
    "display(df4)"
   ]
  },
  {
   "cell_type": "code",
   "execution_count": 123,
   "metadata": {},
   "outputs": [
    {
     "data": {
      "text/html": [
       "<div>\n",
       "<style scoped>\n",
       "    .dataframe tbody tr th:only-of-type {\n",
       "        vertical-align: middle;\n",
       "    }\n",
       "\n",
       "    .dataframe tbody tr th {\n",
       "        vertical-align: top;\n",
       "    }\n",
       "\n",
       "    .dataframe thead th {\n",
       "        text-align: right;\n",
       "    }\n",
       "</style>\n",
       "<table border=\"1\" class=\"dataframe\">\n",
       "  <thead>\n",
       "    <tr style=\"text-align: right;\">\n",
       "      <th></th>\n",
       "      <th>x</th>\n",
       "      <th>y</th>\n",
       "      <th>z</th>\n",
       "    </tr>\n",
       "  </thead>\n",
       "  <tbody>\n",
       "    <tr>\n",
       "      <th>0</th>\n",
       "      <td>1</td>\n",
       "      <td>10</td>\n",
       "      <td>100</td>\n",
       "    </tr>\n",
       "    <tr>\n",
       "      <th>1</th>\n",
       "      <td>2</td>\n",
       "      <td>20</td>\n",
       "      <td>200</td>\n",
       "    </tr>\n",
       "    <tr>\n",
       "      <th>2</th>\n",
       "      <td>3</td>\n",
       "      <td>30</td>\n",
       "      <td>300</td>\n",
       "    </tr>\n",
       "  </tbody>\n",
       "</table>\n",
       "</div>"
      ],
      "text/plain": [
       "   x   y    z\n",
       "0  1  10  100\n",
       "1  2  20  200\n",
       "2  3  30  300"
      ]
     },
     "metadata": {},
     "output_type": "display_data"
    }
   ],
   "source": [
    "# from a numpy array\n",
    "# only a 2 dimensional array would work in this case, any other dimensional arrays would result in a ValueError\n",
    "\n",
    "arr5 = np.array(\n",
    "    [\n",
    "        [1, 10, 100],\n",
    "        [2, 20, 200],\n",
    "        [3, 30, 300]\n",
    "    ]\n",
    ")\n",
    "\n",
    "# the following array, if passed into the df constructor fucntion, it would result in the following error\n",
    "# ValueError: Must pass 2-d input. shape=(3, 3, 3)\n",
    "arr_err1 = np.array(\n",
    "    [\n",
    "        [[1, 10, 100], [2, 20, 200], [3, 30, 300]],\n",
    "        [[1, 10, 100], [2, 20, 200], [3, 30, 300]],\n",
    "        [[1, 10, 100], [2, 20, 200], [3, 30, 300]]\n",
    "    ]\n",
    ")\n",
    "\n",
    "df5 = pd.DataFrame(arr5, columns=['x', 'y', 'z'])\n",
    "display(df5)\n",
    "\n",
    "# pd.DataFrame() normally doesn't copy numpy arrays by default. so if the array is modified, the values in the dataframe would change as well\n",
    "# however, this can be evaded by passing in `copy=True`"
   ]
  },
  {
   "cell_type": "code",
   "execution_count": 124,
   "metadata": {},
   "outputs": [
    {
     "data": {
      "text/html": [
       "<div>\n",
       "<style scoped>\n",
       "    .dataframe tbody tr th:only-of-type {\n",
       "        vertical-align: middle;\n",
       "    }\n",
       "\n",
       "    .dataframe tbody tr th {\n",
       "        vertical-align: top;\n",
       "    }\n",
       "\n",
       "    .dataframe thead th {\n",
       "        text-align: right;\n",
       "    }\n",
       "</style>\n",
       "<table border=\"1\" class=\"dataframe\">\n",
       "  <thead>\n",
       "    <tr style=\"text-align: right;\">\n",
       "      <th></th>\n",
       "      <th>name</th>\n",
       "      <th>age</th>\n",
       "      <th>skill</th>\n",
       "      <th>country</th>\n",
       "      <th>is_disabled</th>\n",
       "    </tr>\n",
       "  </thead>\n",
       "  <tbody>\n",
       "    <tr>\n",
       "      <th>a</th>\n",
       "      <td>Ananth</td>\n",
       "      <td>21</td>\n",
       "      <td>data science</td>\n",
       "      <td>Sri Lanka</td>\n",
       "      <td>True</td>\n",
       "    </tr>\n",
       "    <tr>\n",
       "      <th>b</th>\n",
       "      <td>John</td>\n",
       "      <td>27</td>\n",
       "      <td>machine learning</td>\n",
       "      <td>United Kingdom</td>\n",
       "      <td>False</td>\n",
       "    </tr>\n",
       "    <tr>\n",
       "      <th>c</th>\n",
       "      <td>Wong</td>\n",
       "      <td>24</td>\n",
       "      <td>front end designing</td>\n",
       "      <td>China</td>\n",
       "      <td>False</td>\n",
       "    </tr>\n",
       "    <tr>\n",
       "      <th>d</th>\n",
       "      <td>Souza</td>\n",
       "      <td>33</td>\n",
       "      <td>UI and UX</td>\n",
       "      <td>Netherlands</td>\n",
       "      <td>False</td>\n",
       "    </tr>\n",
       "    <tr>\n",
       "      <th>e</th>\n",
       "      <td>Jane</td>\n",
       "      <td>19</td>\n",
       "      <td>3D modelling</td>\n",
       "      <td>USA</td>\n",
       "      <td>True</td>\n",
       "    </tr>\n",
       "  </tbody>\n",
       "</table>\n",
       "</div>"
      ],
      "text/plain": [
       "     name  age                skill         country  is_disabled\n",
       "a  Ananth   21         data science       Sri Lanka         True\n",
       "b    John   27     machine learning  United Kingdom        False\n",
       "c    Wong   24  front end designing           China        False\n",
       "d   Souza   33            UI and UX     Netherlands        False\n",
       "e    Jane   19         3D modelling             USA         True"
      ]
     },
     "metadata": {},
     "output_type": "display_data"
    }
   ],
   "source": [
    "# saving a dataframe to file on disk and reloading the dataframe from file\n",
    "df0.to_csv('./user_data.csv')\n",
    "\n",
    "dfuser = pd.read_csv('./user_data.csv', index_col=0)  # specifying the index column\n",
    "display(dfuser)"
   ]
  },
  {
   "cell_type": "markdown",
   "metadata": {},
   "source": [
    "## Retrieving Labels and Data"
   ]
  },
  {
   "cell_type": "code",
   "execution_count": 125,
   "metadata": {},
   "outputs": [
    {
     "name": "stdout",
     "output_type": "stream",
     "text": [
      "Index(['a', 'b', 'c', 'd', 'e'], dtype='object')\n",
      "Index(['name', 'age', 'skill', 'country', 'is_disabled'], dtype='object')\n",
      "Int64Index([1, 2, 3, 4, 5], dtype='int64')\n"
     ]
    }
   ],
   "source": [
    "# get index\n",
    "print(dfuser.index)\n",
    "\n",
    "# get colum names\n",
    "print(dfuser.columns)\n",
    "\n",
    "# set index\n",
    "dfuser.index = np.arange(1, 6)\n",
    "print(dfuser.index)\n",
    "\n",
    "# Update the index\n",
    "# Below line has been disabled it is easier to work with a numerical index\n",
    "# dfuser.index = ['a', 'b', 'c', 'd', 'e']\n",
    "\n",
    "# a single element of df.index or df.columns can not be edited. will TypeError"
   ]
  },
  {
   "cell_type": "code",
   "execution_count": 126,
   "metadata": {},
   "outputs": [
    {
     "name": "stdout",
     "output_type": "stream",
     "text": [
      "[['Ananth' 21 'data science' 'Sri Lanka' True]\n",
      " ['John' 27 'machine learning' 'United Kingdom' False]\n",
      " ['Wong' 24 'front end designing' 'China' False]\n",
      " ['Souza' 33 'UI and UX' 'Netherlands' False]\n",
      " ['Jane' 19 '3D modelling' 'USA' True]]\n",
      "<class 'numpy.ndarray'> True\n"
     ]
    }
   ],
   "source": [
    "# retrieving the data as numpy array\n",
    "# any pandas series, dataframes or sequences can be changeed into a numpy array with the methods df.to_numpy of df.values\n",
    "# however df.to_numpy() is more flexible. use copy=False if you want the values to be copied\n",
    "\n",
    "print(dfuser.to_numpy())\n",
    "\n",
    "print(type(dfuser.to_numpy()), type(dfuser.to_numpy()) is type(dfuser.values))"
   ]
  },
  {
   "cell_type": "code",
   "execution_count": 127,
   "metadata": {},
   "outputs": [
    {
     "data": {
      "text/plain": [
       "name           object\n",
       "age             int64\n",
       "skill          object\n",
       "country        object\n",
       "is_disabled    object\n",
       "dtype: object"
      ]
     },
     "execution_count": 127,
     "metadata": {},
     "output_type": "execute_result"
    }
   ],
   "source": [
    "# change one/more column's dtype\n",
    "dfuser = dfuser.astype({'is_disabled': object})\n",
    "\n",
    "# get column datatypes\n",
    "dfuser.dtypes"
   ]
  },
  {
   "cell_type": "code",
   "execution_count": 128,
   "metadata": {},
   "outputs": [
    {
     "name": "stdout",
     "output_type": "stream",
     "text": [
      "2\n",
      "(5, 5)\n",
      "25\n"
     ]
    },
    {
     "data": {
      "text/plain": [
       "Index          40\n",
       "name           40\n",
       "age            40\n",
       "skill          40\n",
       "country        40\n",
       "is_disabled    40\n",
       "dtype: int64"
      ]
     },
     "metadata": {},
     "output_type": "display_data"
    }
   ],
   "source": [
    "# dimensional depth: 1 if series, 2 if dataframe\n",
    "print(dfuser.ndim)\n",
    "\n",
    "# shape: number of rows x number of columns\n",
    "print(dfuser.shape)\n",
    "\n",
    "# size: number of individual values in the dataframe or series\n",
    "print(dfuser.size)\n",
    "\n",
    "# bytes allocated in memory\n",
    "display(dfuser.memory_usage())"
   ]
  },
  {
   "cell_type": "markdown",
   "metadata": {},
   "source": [
    "## Accessing and Modifying Data"
   ]
  },
  {
   "cell_type": "code",
   "execution_count": 129,
   "metadata": {},
   "outputs": [
    {
     "data": {
      "text/html": [
       "<div>\n",
       "<style scoped>\n",
       "    .dataframe tbody tr th:only-of-type {\n",
       "        vertical-align: middle;\n",
       "    }\n",
       "\n",
       "    .dataframe tbody tr th {\n",
       "        vertical-align: top;\n",
       "    }\n",
       "\n",
       "    .dataframe thead th {\n",
       "        text-align: right;\n",
       "    }\n",
       "</style>\n",
       "<table border=\"1\" class=\"dataframe\">\n",
       "  <thead>\n",
       "    <tr style=\"text-align: right;\">\n",
       "      <th></th>\n",
       "      <th>skill</th>\n",
       "    </tr>\n",
       "  </thead>\n",
       "  <tbody>\n",
       "    <tr>\n",
       "      <th>1</th>\n",
       "      <td>data science</td>\n",
       "    </tr>\n",
       "    <tr>\n",
       "      <th>2</th>\n",
       "      <td>machine learning</td>\n",
       "    </tr>\n",
       "    <tr>\n",
       "      <th>3</th>\n",
       "      <td>front end designing</td>\n",
       "    </tr>\n",
       "    <tr>\n",
       "      <th>4</th>\n",
       "      <td>UI and UX</td>\n",
       "    </tr>\n",
       "    <tr>\n",
       "      <th>5</th>\n",
       "      <td>3D modelling</td>\n",
       "    </tr>\n",
       "  </tbody>\n",
       "</table>\n",
       "</div>"
      ],
      "text/plain": [
       "                 skill\n",
       "1         data science\n",
       "2     machine learning\n",
       "3  front end designing\n",
       "4            UI and UX\n",
       "5         3D modelling"
      ]
     },
     "metadata": {},
     "output_type": "display_data"
    },
    {
     "data": {
      "text/plain": [
       "1    Ananth\n",
       "2      John\n",
       "3      Wong\n",
       "4     Souza\n",
       "5      Jane\n",
       "Name: name, dtype: object"
      ]
     },
     "metadata": {},
     "output_type": "display_data"
    }
   ],
   "source": [
    "# access a particular column\n",
    "display(dfuser[['skill']])  # double set of square brackets to return a dataframe\n",
    "\n",
    "# can use dot notation if column name is a valid python identifier\n",
    "display(dfuser.name)\n"
   ]
  },
  {
   "cell_type": "markdown",
   "metadata": {},
   "source": [
    "### Accessors\n",
    "\n",
    "* An **accessor** method is a function that returns a copy of the internal variable or a computed value of an object.\n",
    "  A **mutator** is a method that simply changes an internal value of an object.\n",
    "* Pandas has four accessors in total:\n",
    "  * `.loc[]` - access values by row, column labels.\n",
    "  * `.iloc[]` - access values by 0 based index.\n",
    "  * `.at[]` - access single value by (row, column) labels.\n",
    "  * `.iat[]` - access single value by 0 based index.\n",
    "* `.loc[]` and `.iloc[]` supports slicing and Numpy style indexing."
   ]
  },
  {
   "cell_type": "markdown",
   "metadata": {},
   "source": [
    "#### `.loc[]` & `.iloc[]`"
   ]
  },
  {
   "cell_type": "code",
   "execution_count": 130,
   "metadata": {},
   "outputs": [
    {
     "data": {
      "text/plain": [
       "name                 Ananth\n",
       "age                      21\n",
       "skill          data science\n",
       "country           Sri Lanka\n",
       "is_disabled            True\n",
       "Name: 1, dtype: object"
      ]
     },
     "metadata": {},
     "output_type": "display_data"
    },
    {
     "data": {
      "text/plain": [
       "name                 Ananth\n",
       "age                      21\n",
       "skill          data science\n",
       "country           Sri Lanka\n",
       "is_disabled            True\n",
       "Name: 1, dtype: object"
      ]
     },
     "metadata": {},
     "output_type": "display_data"
    }
   ],
   "source": [
    "# access a row\n",
    "display(dfuser.loc[1])\n",
    "display(dfuser.iloc[0])"
   ]
  },
  {
   "cell_type": "code",
   "execution_count": 131,
   "metadata": {},
   "outputs": [
    {
     "data": {
      "text/plain": [
       "1    Ananth\n",
       "2      John\n",
       "3      Wong\n",
       "4     Souza\n",
       "5      Jane\n",
       "Name: name, dtype: object"
      ]
     },
     "metadata": {},
     "output_type": "display_data"
    },
    {
     "data": {
      "text/plain": [
       "1    Ananth\n",
       "2      John\n",
       "3      Wong\n",
       "4     Souza\n",
       "5      Jane\n",
       "Name: name, dtype: object"
      ]
     },
     "metadata": {},
     "output_type": "display_data"
    }
   ],
   "source": [
    "# access a column\n",
    "display(dfuser.loc[:, 'name'])\n",
    "display(dfuser.iloc[:, 0])"
   ]
  },
  {
   "cell_type": "code",
   "execution_count": 132,
   "metadata": {},
   "outputs": [
    {
     "data": {
      "text/html": [
       "<div>\n",
       "<style scoped>\n",
       "    .dataframe tbody tr th:only-of-type {\n",
       "        vertical-align: middle;\n",
       "    }\n",
       "\n",
       "    .dataframe tbody tr th {\n",
       "        vertical-align: top;\n",
       "    }\n",
       "\n",
       "    .dataframe thead th {\n",
       "        text-align: right;\n",
       "    }\n",
       "</style>\n",
       "<table border=\"1\" class=\"dataframe\">\n",
       "  <thead>\n",
       "    <tr style=\"text-align: right;\">\n",
       "      <th></th>\n",
       "      <th>name</th>\n",
       "      <th>skill</th>\n",
       "    </tr>\n",
       "  </thead>\n",
       "  <tbody>\n",
       "    <tr>\n",
       "      <th>1</th>\n",
       "      <td>Ananth</td>\n",
       "      <td>data science</td>\n",
       "    </tr>\n",
       "    <tr>\n",
       "      <th>2</th>\n",
       "      <td>John</td>\n",
       "      <td>machine learning</td>\n",
       "    </tr>\n",
       "    <tr>\n",
       "      <th>3</th>\n",
       "      <td>Wong</td>\n",
       "      <td>front end designing</td>\n",
       "    </tr>\n",
       "    <tr>\n",
       "      <th>4</th>\n",
       "      <td>Souza</td>\n",
       "      <td>UI and UX</td>\n",
       "    </tr>\n",
       "  </tbody>\n",
       "</table>\n",
       "</div>"
      ],
      "text/plain": [
       "     name                skill\n",
       "1  Ananth         data science\n",
       "2    John     machine learning\n",
       "3    Wong  front end designing\n",
       "4   Souza            UI and UX"
      ]
     },
     "metadata": {},
     "output_type": "display_data"
    },
    {
     "data": {
      "text/html": [
       "<div>\n",
       "<style scoped>\n",
       "    .dataframe tbody tr th:only-of-type {\n",
       "        vertical-align: middle;\n",
       "    }\n",
       "\n",
       "    .dataframe tbody tr th {\n",
       "        vertical-align: top;\n",
       "    }\n",
       "\n",
       "    .dataframe thead th {\n",
       "        text-align: right;\n",
       "    }\n",
       "</style>\n",
       "<table border=\"1\" class=\"dataframe\">\n",
       "  <thead>\n",
       "    <tr style=\"text-align: right;\">\n",
       "      <th></th>\n",
       "      <th>name</th>\n",
       "      <th>skill</th>\n",
       "    </tr>\n",
       "  </thead>\n",
       "  <tbody>\n",
       "    <tr>\n",
       "      <th>1</th>\n",
       "      <td>Ananth</td>\n",
       "      <td>data science</td>\n",
       "    </tr>\n",
       "    <tr>\n",
       "      <th>2</th>\n",
       "      <td>John</td>\n",
       "      <td>machine learning</td>\n",
       "    </tr>\n",
       "    <tr>\n",
       "      <th>3</th>\n",
       "      <td>Wong</td>\n",
       "      <td>front end designing</td>\n",
       "    </tr>\n",
       "    <tr>\n",
       "      <th>4</th>\n",
       "      <td>Souza</td>\n",
       "      <td>UI and UX</td>\n",
       "    </tr>\n",
       "  </tbody>\n",
       "</table>\n",
       "</div>"
      ],
      "text/plain": [
       "     name                skill\n",
       "1  Ananth         data science\n",
       "2    John     machine learning\n",
       "3    Wong  front end designing\n",
       "4   Souza            UI and UX"
      ]
     },
     "metadata": {},
     "output_type": "display_data"
    }
   ],
   "source": [
    "# numpy-like slicing\n",
    "display(dfuser.loc[1:4, ['name', 'skill']])  # rows 1 through 4, both indices are inclusive\n",
    "display(dfuser.iloc[0:4, [0, 2]])  # rows 0 through 3, stop index is exclusive"
   ]
  },
  {
   "cell_type": "markdown",
   "metadata": {},
   "source": [
    "#### `.at[]` & `.iat[]`\n",
    "\n",
    "* recommended for accessing single values"
   ]
  },
  {
   "cell_type": "code",
   "execution_count": 133,
   "metadata": {},
   "outputs": [
    {
     "data": {
      "text/plain": [
       "21"
      ]
     },
     "metadata": {},
     "output_type": "display_data"
    },
    {
     "data": {
      "text/plain": [
       "21"
      ]
     },
     "metadata": {},
     "output_type": "display_data"
    }
   ],
   "source": [
    "display(dfuser.at[1, 'age'])\n",
    "display(dfuser.iat[0, 1])"
   ]
  },
  {
   "cell_type": "markdown",
   "metadata": {},
   "source": [
    "### Modifying Data"
   ]
  },
  {
   "cell_type": "code",
   "execution_count": 134,
   "metadata": {},
   "outputs": [
    {
     "data": {
      "text/plain": [
       "1    95\n",
       "2    15\n",
       "3    26\n",
       "4    30\n",
       "5    30\n",
       "Name: age, dtype: int64"
      ]
     },
     "execution_count": 134,
     "metadata": {},
     "output_type": "execute_result"
    }
   ],
   "source": [
    "dfuser.loc[1:3, 'age'] = [95, 15, 26]  # set new value for the selected range\n",
    "dfuser.iloc[3:, 1] = 30\n",
    "dfuser.age"
   ]
  },
  {
   "cell_type": "code",
   "execution_count": 135,
   "metadata": {},
   "outputs": [
    {
     "data": {
      "text/html": [
       "<div>\n",
       "<style scoped>\n",
       "    .dataframe tbody tr th:only-of-type {\n",
       "        vertical-align: middle;\n",
       "    }\n",
       "\n",
       "    .dataframe tbody tr th {\n",
       "        vertical-align: top;\n",
       "    }\n",
       "\n",
       "    .dataframe thead th {\n",
       "        text-align: right;\n",
       "    }\n",
       "</style>\n",
       "<table border=\"1\" class=\"dataframe\">\n",
       "  <thead>\n",
       "    <tr style=\"text-align: right;\">\n",
       "      <th></th>\n",
       "      <th>name</th>\n",
       "      <th>age</th>\n",
       "      <th>skill</th>\n",
       "      <th>country</th>\n",
       "      <th>is_disabled</th>\n",
       "    </tr>\n",
       "  </thead>\n",
       "  <tbody>\n",
       "    <tr>\n",
       "      <th>1</th>\n",
       "      <td>Ananth</td>\n",
       "      <td>95</td>\n",
       "      <td>data science</td>\n",
       "      <td>Sri Lanka</td>\n",
       "      <td>True</td>\n",
       "    </tr>\n",
       "    <tr>\n",
       "      <th>2</th>\n",
       "      <td>John</td>\n",
       "      <td>15</td>\n",
       "      <td>machine learning</td>\n",
       "      <td>United Kingdom</td>\n",
       "      <td>False</td>\n",
       "    </tr>\n",
       "    <tr>\n",
       "      <th>3</th>\n",
       "      <td>Wong</td>\n",
       "      <td>26</td>\n",
       "      <td>front end designing</td>\n",
       "      <td>China</td>\n",
       "      <td>False</td>\n",
       "    </tr>\n",
       "    <tr>\n",
       "      <th>4</th>\n",
       "      <td>Souza</td>\n",
       "      <td>30</td>\n",
       "      <td>UI and UX</td>\n",
       "      <td>Netherlands</td>\n",
       "      <td>False</td>\n",
       "    </tr>\n",
       "    <tr>\n",
       "      <th>5</th>\n",
       "      <td>Shaaruk</td>\n",
       "      <td>30</td>\n",
       "      <td>3D modelling</td>\n",
       "      <td>USA</td>\n",
       "      <td>True</td>\n",
       "    </tr>\n",
       "  </tbody>\n",
       "</table>\n",
       "</div>"
      ],
      "text/plain": [
       "      name  age                skill         country is_disabled\n",
       "1   Ananth   95         data science       Sri Lanka        True\n",
       "2     John   15     machine learning  United Kingdom       False\n",
       "3     Wong   26  front end designing           China       False\n",
       "4    Souza   30            UI and UX     Netherlands       False\n",
       "5  Shaaruk   30         3D modelling             USA        True"
      ]
     },
     "execution_count": 135,
     "metadata": {},
     "output_type": "execute_result"
    }
   ],
   "source": [
    "# reverse indexing can be used as well\n",
    "dfuser.iloc[-1, 0] = 'Shaaruk'\n",
    "dfuser"
   ]
  },
  {
   "cell_type": "markdown",
   "metadata": {},
   "source": [
    "## Inserting and Deleting Data"
   ]
  },
  {
   "cell_type": "markdown",
   "metadata": {},
   "source": [
    "### Inserting and deleting rows\n"
   ]
  },
  {
   "cell_type": "code",
   "execution_count": 136,
   "metadata": {},
   "outputs": [
    {
     "name": "stderr",
     "output_type": "stream",
     "text": [
      "C:\\Users\\govar\\AppData\\Local\\Temp\\ipykernel_8436\\4246892851.py:9: FutureWarning: The frame.append method is deprecated and will be removed from pandas in a future version. Use pandas.concat instead.\n",
      "  dfuser = dfuser.append(new_row, ignore_index=True)\n"
     ]
    }
   ],
   "source": [
    "# Can be created from a dictionary or other iterable as well\n",
    "# The index has to be the column names this time since the dimensions are different this time\n",
    "new_row = pd.Series(['Bruce', 27, 'automation', 'India', False], index=dfuser.columns)\n",
    "\n",
    "# Append the row (Pandas Series) to the existing dataframe\n",
    "# The series, created above, doesn't have a value to the name parameter.\n",
    "# For such a Series object to be added to an exsiting dataframe, ignnode_index=True has to be passed in, since the Series object would have an index of null.\n",
    "# By doing so, you would basically reset the index with numerals starting from 0\n",
    "dfuser = dfuser.append(new_row, ignore_index=True)"
   ]
  },
  {
   "cell_type": "code",
   "execution_count": 137,
   "metadata": {},
   "outputs": [
    {
     "name": "stderr",
     "output_type": "stream",
     "text": [
      "C:\\Users\\govar\\AppData\\Local\\Temp\\ipykernel_8436\\577093091.py:5: FutureWarning: The frame.append method is deprecated and will be removed from pandas in a future version. Use pandas.concat instead.\n",
      "  dfuser = dfuser.append(new_row_1)\n"
     ]
    },
    {
     "data": {
      "text/html": [
       "<div>\n",
       "<style scoped>\n",
       "    .dataframe tbody tr th:only-of-type {\n",
       "        vertical-align: middle;\n",
       "    }\n",
       "\n",
       "    .dataframe tbody tr th {\n",
       "        vertical-align: top;\n",
       "    }\n",
       "\n",
       "    .dataframe thead th {\n",
       "        text-align: right;\n",
       "    }\n",
       "</style>\n",
       "<table border=\"1\" class=\"dataframe\">\n",
       "  <thead>\n",
       "    <tr style=\"text-align: right;\">\n",
       "      <th></th>\n",
       "      <th>name</th>\n",
       "      <th>age</th>\n",
       "      <th>skill</th>\n",
       "      <th>country</th>\n",
       "      <th>is_disabled</th>\n",
       "    </tr>\n",
       "  </thead>\n",
       "  <tbody>\n",
       "    <tr>\n",
       "      <th>0</th>\n",
       "      <td>Ananth</td>\n",
       "      <td>95</td>\n",
       "      <td>data science</td>\n",
       "      <td>Sri Lanka</td>\n",
       "      <td>True</td>\n",
       "    </tr>\n",
       "    <tr>\n",
       "      <th>1</th>\n",
       "      <td>John</td>\n",
       "      <td>15</td>\n",
       "      <td>machine learning</td>\n",
       "      <td>United Kingdom</td>\n",
       "      <td>False</td>\n",
       "    </tr>\n",
       "    <tr>\n",
       "      <th>2</th>\n",
       "      <td>Wong</td>\n",
       "      <td>26</td>\n",
       "      <td>front end designing</td>\n",
       "      <td>China</td>\n",
       "      <td>False</td>\n",
       "    </tr>\n",
       "    <tr>\n",
       "      <th>3</th>\n",
       "      <td>Souza</td>\n",
       "      <td>30</td>\n",
       "      <td>UI and UX</td>\n",
       "      <td>Netherlands</td>\n",
       "      <td>False</td>\n",
       "    </tr>\n",
       "    <tr>\n",
       "      <th>4</th>\n",
       "      <td>Shaaruk</td>\n",
       "      <td>30</td>\n",
       "      <td>3D modelling</td>\n",
       "      <td>USA</td>\n",
       "      <td>True</td>\n",
       "    </tr>\n",
       "    <tr>\n",
       "      <th>5</th>\n",
       "      <td>Bruce</td>\n",
       "      <td>27</td>\n",
       "      <td>automation</td>\n",
       "      <td>India</td>\n",
       "      <td>False</td>\n",
       "    </tr>\n",
       "    <tr>\n",
       "      <th>9</th>\n",
       "      <td>Megan</td>\n",
       "      <td>37</td>\n",
       "      <td>digital art</td>\n",
       "      <td>USA</td>\n",
       "      <td>True</td>\n",
       "    </tr>\n",
       "  </tbody>\n",
       "</table>\n",
       "</div>"
      ],
      "text/plain": [
       "      name  age                skill         country is_disabled\n",
       "0   Ananth   95         data science       Sri Lanka        True\n",
       "1     John   15     machine learning  United Kingdom       False\n",
       "2     Wong   26  front end designing           China       False\n",
       "3    Souza   30            UI and UX     Netherlands       False\n",
       "4  Shaaruk   30         3D modelling             USA        True\n",
       "5    Bruce   27           automation           India       False\n",
       "9    Megan   37          digital art             USA        True"
      ]
     },
     "metadata": {},
     "output_type": "display_data"
    }
   ],
   "source": [
    "# However the above consequence can be evaded by giving the Series a name\n",
    "# The name attribute of a Series acts as the index of that row in a dataset\n",
    "\n",
    "new_row_1 = pd.Series(['Megan', 37, 'digital art', 'USA', True], index=dfuser.columns, name=9)\n",
    "dfuser = dfuser.append(new_row_1)\n",
    "\n",
    "display(dfuser)\n"
   ]
  },
  {
   "cell_type": "code",
   "execution_count": 138,
   "metadata": {},
   "outputs": [
    {
     "data": {
      "text/html": [
       "<div>\n",
       "<style scoped>\n",
       "    .dataframe tbody tr th:only-of-type {\n",
       "        vertical-align: middle;\n",
       "    }\n",
       "\n",
       "    .dataframe tbody tr th {\n",
       "        vertical-align: top;\n",
       "    }\n",
       "\n",
       "    .dataframe thead th {\n",
       "        text-align: right;\n",
       "    }\n",
       "</style>\n",
       "<table border=\"1\" class=\"dataframe\">\n",
       "  <thead>\n",
       "    <tr style=\"text-align: right;\">\n",
       "      <th></th>\n",
       "      <th>name</th>\n",
       "      <th>age</th>\n",
       "      <th>skill</th>\n",
       "      <th>country</th>\n",
       "      <th>is_disabled</th>\n",
       "    </tr>\n",
       "  </thead>\n",
       "  <tbody>\n",
       "    <tr>\n",
       "      <th>0</th>\n",
       "      <td>Ananth</td>\n",
       "      <td>95</td>\n",
       "      <td>data science</td>\n",
       "      <td>Sri Lanka</td>\n",
       "      <td>True</td>\n",
       "    </tr>\n",
       "    <tr>\n",
       "      <th>1</th>\n",
       "      <td>John</td>\n",
       "      <td>15</td>\n",
       "      <td>machine learning</td>\n",
       "      <td>United Kingdom</td>\n",
       "      <td>False</td>\n",
       "    </tr>\n",
       "    <tr>\n",
       "      <th>2</th>\n",
       "      <td>Wong</td>\n",
       "      <td>26</td>\n",
       "      <td>front end designing</td>\n",
       "      <td>China</td>\n",
       "      <td>False</td>\n",
       "    </tr>\n",
       "    <tr>\n",
       "      <th>3</th>\n",
       "      <td>Souza</td>\n",
       "      <td>30</td>\n",
       "      <td>UI and UX</td>\n",
       "      <td>Netherlands</td>\n",
       "      <td>False</td>\n",
       "    </tr>\n",
       "    <tr>\n",
       "      <th>4</th>\n",
       "      <td>Shaaruk</td>\n",
       "      <td>30</td>\n",
       "      <td>3D modelling</td>\n",
       "      <td>USA</td>\n",
       "      <td>True</td>\n",
       "    </tr>\n",
       "    <tr>\n",
       "      <th>5</th>\n",
       "      <td>Bruce</td>\n",
       "      <td>27</td>\n",
       "      <td>automation</td>\n",
       "      <td>India</td>\n",
       "      <td>False</td>\n",
       "    </tr>\n",
       "  </tbody>\n",
       "</table>\n",
       "</div>"
      ],
      "text/plain": [
       "      name  age                skill         country is_disabled\n",
       "0   Ananth   95         data science       Sri Lanka        True\n",
       "1     John   15     machine learning  United Kingdom       False\n",
       "2     Wong   26  front end designing           China       False\n",
       "3    Souza   30            UI and UX     Netherlands       False\n",
       "4  Shaaruk   30         3D modelling             USA        True\n",
       "5    Bruce   27           automation           India       False"
      ]
     },
     "metadata": {},
     "output_type": "display_data"
    },
    {
     "data": {
      "text/html": [
       "<div>\n",
       "<style scoped>\n",
       "    .dataframe tbody tr th:only-of-type {\n",
       "        vertical-align: middle;\n",
       "    }\n",
       "\n",
       "    .dataframe tbody tr th {\n",
       "        vertical-align: top;\n",
       "    }\n",
       "\n",
       "    .dataframe thead th {\n",
       "        text-align: right;\n",
       "    }\n",
       "</style>\n",
       "<table border=\"1\" class=\"dataframe\">\n",
       "  <thead>\n",
       "    <tr style=\"text-align: right;\">\n",
       "      <th></th>\n",
       "      <th>name</th>\n",
       "      <th>age</th>\n",
       "      <th>skill</th>\n",
       "      <th>country</th>\n",
       "      <th>is_disabled</th>\n",
       "    </tr>\n",
       "  </thead>\n",
       "  <tbody>\n",
       "    <tr>\n",
       "      <th>0</th>\n",
       "      <td>Ananth</td>\n",
       "      <td>95</td>\n",
       "      <td>data science</td>\n",
       "      <td>Sri Lanka</td>\n",
       "      <td>True</td>\n",
       "    </tr>\n",
       "    <tr>\n",
       "      <th>1</th>\n",
       "      <td>John</td>\n",
       "      <td>15</td>\n",
       "      <td>machine learning</td>\n",
       "      <td>United Kingdom</td>\n",
       "      <td>False</td>\n",
       "    </tr>\n",
       "    <tr>\n",
       "      <th>2</th>\n",
       "      <td>Wong</td>\n",
       "      <td>26</td>\n",
       "      <td>front end designing</td>\n",
       "      <td>China</td>\n",
       "      <td>False</td>\n",
       "    </tr>\n",
       "    <tr>\n",
       "      <th>3</th>\n",
       "      <td>Souza</td>\n",
       "      <td>30</td>\n",
       "      <td>UI and UX</td>\n",
       "      <td>Netherlands</td>\n",
       "      <td>False</td>\n",
       "    </tr>\n",
       "    <tr>\n",
       "      <th>4</th>\n",
       "      <td>Shaaruk</td>\n",
       "      <td>30</td>\n",
       "      <td>3D modelling</td>\n",
       "      <td>USA</td>\n",
       "      <td>True</td>\n",
       "    </tr>\n",
       "  </tbody>\n",
       "</table>\n",
       "</div>"
      ],
      "text/plain": [
       "      name  age                skill         country is_disabled\n",
       "0   Ananth   95         data science       Sri Lanka        True\n",
       "1     John   15     machine learning  United Kingdom       False\n",
       "2     Wong   26  front end designing           China       False\n",
       "3    Souza   30            UI and UX     Netherlands       False\n",
       "4  Shaaruk   30         3D modelling             USA        True"
      ]
     },
     "metadata": {},
     "output_type": "display_data"
    }
   ],
   "source": [
    "# Delete a row, or a set of rows\n",
    "# The data to be deleted can be specified in multiple ways\n",
    "#       label=n, axis=0 = Delete a row\n",
    "#       label=x, axis=1 = Delete a column\n",
    "#       index=n = Delete a row\n",
    "#       columns=n = Delete a column\n",
    "\n",
    "# Remove Megan's row\n",
    "dfuser.drop(labels=[9], axis=0, inplace=True)\n",
    "display(dfuser)\n",
    "\n",
    "# Remove Bruce's row\n",
    "dfuser.drop(index=5, inplace=True)\n",
    "display(dfuser)"
   ]
  }
 ],
 "metadata": {
  "interpreter": {
   "hash": "e22e22d4bf09dfc6961bcf6daa4db45bd22612cafcc764faaa0db985f3deb083"
  },
  "kernelspec": {
   "display_name": "Python 3.9.10 ('dst')",
   "language": "python",
   "name": "python3"
  },
  "language_info": {
   "codemirror_mode": {
    "name": "ipython",
    "version": 3
   },
   "file_extension": ".py",
   "mimetype": "text/x-python",
   "name": "python",
   "nbconvert_exporter": "python",
   "pygments_lexer": "ipython3",
   "version": "3.9.12"
  },
  "orig_nbformat": 4
 },
 "nbformat": 4,
 "nbformat_minor": 2
}

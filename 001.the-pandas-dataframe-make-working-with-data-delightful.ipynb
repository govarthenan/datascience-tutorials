{
 "cells": [
  {
   "cell_type": "markdown",
   "metadata": {},
   "source": [
    "# The Pandas DataFrame: Make Working With Data Delightful\n",
    "\n",
    "**Article Link: https://realpython.com/pandas-dataframe/**\n",
    "\n",
    "In this tutorial, you’ll learn:\n",
    "\n",
    "-   What a Pandas DataFrame is and how to create one\n",
    "-   How to access, modify, add, sort, filter, and delete data\n",
    "-   How to handle missing values\n",
    "-   How to work with time-series data\n",
    "-   How to quickly visualize data\n"
   ]
  },
  {
   "cell_type": "code",
   "execution_count": 154,
   "metadata": {},
   "outputs": [],
   "source": [
    "import pandas as pd\n",
    "import numpy as np"
   ]
  },
  {
   "cell_type": "markdown",
   "metadata": {},
   "source": [
    "## Intro\n"
   ]
  },
  {
   "cell_type": "code",
   "execution_count": 155,
   "metadata": {},
   "outputs": [
    {
     "data": {
      "text/html": [
       "<div>\n",
       "<style scoped>\n",
       "    .dataframe tbody tr th:only-of-type {\n",
       "        vertical-align: middle;\n",
       "    }\n",
       "\n",
       "    .dataframe tbody tr th {\n",
       "        vertical-align: top;\n",
       "    }\n",
       "\n",
       "    .dataframe thead th {\n",
       "        text-align: right;\n",
       "    }\n",
       "</style>\n",
       "<table border=\"1\" class=\"dataframe\">\n",
       "  <thead>\n",
       "    <tr style=\"text-align: right;\">\n",
       "      <th></th>\n",
       "      <th>name</th>\n",
       "      <th>age</th>\n",
       "      <th>skill</th>\n",
       "      <th>country</th>\n",
       "      <th>is_disabled</th>\n",
       "    </tr>\n",
       "  </thead>\n",
       "  <tbody>\n",
       "    <tr>\n",
       "      <th>a</th>\n",
       "      <td>Ananth</td>\n",
       "      <td>21</td>\n",
       "      <td>data science</td>\n",
       "      <td>Sri Lanka</td>\n",
       "      <td>True</td>\n",
       "    </tr>\n",
       "    <tr>\n",
       "      <th>b</th>\n",
       "      <td>John</td>\n",
       "      <td>27</td>\n",
       "      <td>machine learning</td>\n",
       "      <td>United Kingdom</td>\n",
       "      <td>False</td>\n",
       "    </tr>\n",
       "    <tr>\n",
       "      <th>c</th>\n",
       "      <td>Wong</td>\n",
       "      <td>24</td>\n",
       "      <td>front end designing</td>\n",
       "      <td>China</td>\n",
       "      <td>False</td>\n",
       "    </tr>\n",
       "    <tr>\n",
       "      <th>d</th>\n",
       "      <td>Souza</td>\n",
       "      <td>33</td>\n",
       "      <td>UI and UX</td>\n",
       "      <td>Netherlands</td>\n",
       "      <td>False</td>\n",
       "    </tr>\n",
       "    <tr>\n",
       "      <th>e</th>\n",
       "      <td>Jane</td>\n",
       "      <td>19</td>\n",
       "      <td>3D modelling</td>\n",
       "      <td>USA</td>\n",
       "      <td>True</td>\n",
       "    </tr>\n",
       "  </tbody>\n",
       "</table>\n",
       "</div>"
      ],
      "text/plain": [
       "     name  age                skill         country  is_disabled\n",
       "a  Ananth   21         data science       Sri Lanka         True\n",
       "b    John   27     machine learning  United Kingdom        False\n",
       "c    Wong   24  front end designing           China        False\n",
       "d   Souza   33            UI and UX     Netherlands        False\n",
       "e    Jane   19         3D modelling             USA         True"
      ]
     },
     "metadata": {},
     "output_type": "display_data"
    }
   ],
   "source": [
    "# Create a sample dataframe from dictionary\n",
    "user_data = {\n",
    "    \"name\": [\"Ananth\", \"John\", \"Wong\", \"Souza\", \"Jane\"],\n",
    "    \"age\": [21, 27, 24, 33, 19],\n",
    "    \"skill\": [\n",
    "        \"data science\",\n",
    "        \"machine learning\",\n",
    "        \"front end designing\",\n",
    "        \"UI and UX\",\n",
    "        \"3D modelling\",\n",
    "    ],\n",
    "    \"country\": [\"Sri Lanka\", \"United Kingdom\", \"China\", \"Netherlands\", \"USA\"],\n",
    "    \"is_disabled\": [True, False, False, False, True],\n",
    "}\n",
    "row_labels = [\"a\", \"b\", \"c\", \"d\", \"e\"]\n",
    "\n",
    "\n",
    "df0 = pd.DataFrame(user_data, index=row_labels)\n",
    "\n",
    "display(df0)"
   ]
  },
  {
   "cell_type": "code",
   "execution_count": 156,
   "metadata": {},
   "outputs": [
    {
     "data": {
      "text/plain": [
       "a           data science\n",
       "b       machine learning\n",
       "c    front end designing\n",
       "d              UI and UX\n",
       "e           3D modelling\n",
       "Name: skill, dtype: object"
      ]
     },
     "metadata": {},
     "output_type": "display_data"
    }
   ],
   "source": [
    "# If the column name is a valid Python identifier, the column can be accessed using dot notation\n",
    "display(df0.skill)"
   ]
  },
  {
   "cell_type": "code",
   "execution_count": 157,
   "metadata": {},
   "outputs": [
    {
     "data": {
      "text/plain": [
       "'front end designing'"
      ]
     },
     "metadata": {},
     "output_type": "display_data"
    },
    {
     "data": {
      "text/plain": [
       "name                          Wong\n",
       "age                             24\n",
       "skill          front end designing\n",
       "country                      China\n",
       "is_disabled                  False\n",
       "Name: c, dtype: object"
      ]
     },
     "metadata": {},
     "output_type": "display_data"
    }
   ],
   "source": [
    "# Use index like dictionary key\n",
    "display(df0.skill[\"c\"])\n",
    "\n",
    "# this won't work\n",
    "# display(df0['b'])\n",
    "\n",
    "# Instead, loc can be used\n",
    "display(df0.loc[\"c\"])"
   ]
  },
  {
   "cell_type": "markdown",
   "metadata": {},
   "source": [
    "## Creating a Pandas DataFrame\n"
   ]
  },
  {
   "cell_type": "code",
   "execution_count": 158,
   "metadata": {},
   "outputs": [
    {
     "data": {
      "text/html": [
       "<div>\n",
       "<style scoped>\n",
       "    .dataframe tbody tr th:only-of-type {\n",
       "        vertical-align: middle;\n",
       "    }\n",
       "\n",
       "    .dataframe tbody tr th {\n",
       "        vertical-align: top;\n",
       "    }\n",
       "\n",
       "    .dataframe thead th {\n",
       "        text-align: right;\n",
       "    }\n",
       "</style>\n",
       "<table border=\"1\" class=\"dataframe\">\n",
       "  <thead>\n",
       "    <tr style=\"text-align: right;\">\n",
       "      <th></th>\n",
       "      <th>x</th>\n",
       "      <th>y</th>\n",
       "      <th>z</th>\n",
       "    </tr>\n",
       "  </thead>\n",
       "  <tbody>\n",
       "    <tr>\n",
       "      <th>0</th>\n",
       "      <td>1</td>\n",
       "      <td>2</td>\n",
       "      <td>100</td>\n",
       "    </tr>\n",
       "    <tr>\n",
       "      <th>1</th>\n",
       "      <td>2</td>\n",
       "      <td>4</td>\n",
       "      <td>100</td>\n",
       "    </tr>\n",
       "    <tr>\n",
       "      <th>2</th>\n",
       "      <td>3</td>\n",
       "      <td>6</td>\n",
       "      <td>100</td>\n",
       "    </tr>\n",
       "  </tbody>\n",
       "</table>\n",
       "</div>"
      ],
      "text/plain": [
       "   x  y    z\n",
       "0  1  2  100\n",
       "1  2  4  100\n",
       "2  3  6  100"
      ]
     },
     "metadata": {},
     "output_type": "display_data"
    }
   ],
   "source": [
    "# From a dictionary\n",
    "dict1 = {\"x\": [1, 2, 3], \"y\": np.array([2, 4, 6]), \"z\": 100}\n",
    "\n",
    "df1 = pd.DataFrame(dict1)\n",
    "display(df1)"
   ]
  },
  {
   "cell_type": "code",
   "execution_count": 159,
   "metadata": {},
   "outputs": [
    {
     "data": {
      "text/html": [
       "<div>\n",
       "<style scoped>\n",
       "    .dataframe tbody tr th:only-of-type {\n",
       "        vertical-align: middle;\n",
       "    }\n",
       "\n",
       "    .dataframe tbody tr th {\n",
       "        vertical-align: top;\n",
       "    }\n",
       "\n",
       "    .dataframe thead th {\n",
       "        text-align: right;\n",
       "    }\n",
       "</style>\n",
       "<table border=\"1\" class=\"dataframe\">\n",
       "  <thead>\n",
       "    <tr style=\"text-align: right;\">\n",
       "      <th></th>\n",
       "      <th>x</th>\n",
       "      <th>y</th>\n",
       "      <th>z</th>\n",
       "    </tr>\n",
       "  </thead>\n",
       "  <tbody>\n",
       "    <tr>\n",
       "      <th>0</th>\n",
       "      <td>1</td>\n",
       "      <td>2</td>\n",
       "      <td>3</td>\n",
       "    </tr>\n",
       "    <tr>\n",
       "      <th>1</th>\n",
       "      <td>4</td>\n",
       "      <td>5</td>\n",
       "      <td>6</td>\n",
       "    </tr>\n",
       "    <tr>\n",
       "      <th>2</th>\n",
       "      <td>7</td>\n",
       "      <td>8</td>\n",
       "      <td>9</td>\n",
       "    </tr>\n",
       "  </tbody>\n",
       "</table>\n",
       "</div>"
      ],
      "text/plain": [
       "   x  y  z\n",
       "0  1  2  3\n",
       "1  4  5  6\n",
       "2  7  8  9"
      ]
     },
     "metadata": {},
     "output_type": "display_data"
    },
    {
     "data": {
      "text/html": [
       "<div>\n",
       "<style scoped>\n",
       "    .dataframe tbody tr th:only-of-type {\n",
       "        vertical-align: middle;\n",
       "    }\n",
       "\n",
       "    .dataframe tbody tr th {\n",
       "        vertical-align: top;\n",
       "    }\n",
       "\n",
       "    .dataframe thead th {\n",
       "        text-align: right;\n",
       "    }\n",
       "</style>\n",
       "<table border=\"1\" class=\"dataframe\">\n",
       "  <thead>\n",
       "    <tr style=\"text-align: right;\">\n",
       "      <th></th>\n",
       "      <th>x</th>\n",
       "      <th>y</th>\n",
       "      <th>z</th>\n",
       "    </tr>\n",
       "  </thead>\n",
       "  <tbody>\n",
       "    <tr>\n",
       "      <th>0</th>\n",
       "      <td>3.0</td>\n",
       "      <td>NaN</td>\n",
       "      <td>NaN</td>\n",
       "    </tr>\n",
       "    <tr>\n",
       "      <th>1</th>\n",
       "      <td>NaN</td>\n",
       "      <td>6.0</td>\n",
       "      <td>NaN</td>\n",
       "    </tr>\n",
       "    <tr>\n",
       "      <th>2</th>\n",
       "      <td>NaN</td>\n",
       "      <td>NaN</td>\n",
       "      <td>9.0</td>\n",
       "    </tr>\n",
       "  </tbody>\n",
       "</table>\n",
       "</div>"
      ],
      "text/plain": [
       "     x    y    z\n",
       "0  3.0  NaN  NaN\n",
       "1  NaN  6.0  NaN\n",
       "2  NaN  NaN  9.0"
      ]
     },
     "metadata": {},
     "output_type": "display_data"
    },
    {
     "data": {
      "text/html": [
       "<div>\n",
       "<style scoped>\n",
       "    .dataframe tbody tr th:only-of-type {\n",
       "        vertical-align: middle;\n",
       "    }\n",
       "\n",
       "    .dataframe tbody tr th {\n",
       "        vertical-align: top;\n",
       "    }\n",
       "\n",
       "    .dataframe thead th {\n",
       "        text-align: right;\n",
       "    }\n",
       "</style>\n",
       "<table border=\"1\" class=\"dataframe\">\n",
       "  <thead>\n",
       "    <tr style=\"text-align: right;\">\n",
       "      <th></th>\n",
       "      <th>x</th>\n",
       "      <th>y</th>\n",
       "      <th>z</th>\n",
       "    </tr>\n",
       "  </thead>\n",
       "  <tbody>\n",
       "    <tr>\n",
       "      <th>0</th>\n",
       "      <td>11</td>\n",
       "      <td>22</td>\n",
       "      <td>33</td>\n",
       "    </tr>\n",
       "    <tr>\n",
       "      <th>1</th>\n",
       "      <td>14</td>\n",
       "      <td>25</td>\n",
       "      <td>36</td>\n",
       "    </tr>\n",
       "    <tr>\n",
       "      <th>2</th>\n",
       "      <td>17</td>\n",
       "      <td>30</td>\n",
       "      <td>39</td>\n",
       "    </tr>\n",
       "  </tbody>\n",
       "</table>\n",
       "</div>"
      ],
      "text/plain": [
       "    x   y   z\n",
       "0  11  22  33\n",
       "1  14  25  36\n",
       "2  17  30  39"
      ]
     },
     "metadata": {},
     "output_type": "display_data"
    }
   ],
   "source": [
    "# From a list of dictionaries\n",
    "list2 = [{\"x\": 1, \"y\": 2, \"z\": 3}, {\"x\": 4, \"y\": 5, \"z\": 6}, {\"x\": 7, \"y\": 8, \"z\": 9}]\n",
    "df2 = pd.DataFrame(list2)\n",
    "display(df2)\n",
    "\n",
    "\n",
    "# This one won't work properly\n",
    "list3 = [{\"x\": 1, \"x\": 2, \"x\": 3}, {\"y\": 4, \"y\": 5, \"y\": 6}, {\"z\": 7, \"z\": 8, \"z\": 9}]\n",
    "df3 = pd.DataFrame(list3)\n",
    "display(df3)\n",
    "\n",
    "\n",
    "# From a list of lists\n",
    "list4 = [[11, 22, 33], [14, 25, 36], [17, 30, 39]]\n",
    "df4 = pd.DataFrame(\n",
    "    list4, columns=[\"x\", \"y\", \"z\"]\n",
    ")  # column names have to passed in explicitly, otherwise they would be auto named using integers, like index\n",
    "display(df4)"
   ]
  },
  {
   "cell_type": "code",
   "execution_count": 160,
   "metadata": {},
   "outputs": [
    {
     "data": {
      "text/html": [
       "<div>\n",
       "<style scoped>\n",
       "    .dataframe tbody tr th:only-of-type {\n",
       "        vertical-align: middle;\n",
       "    }\n",
       "\n",
       "    .dataframe tbody tr th {\n",
       "        vertical-align: top;\n",
       "    }\n",
       "\n",
       "    .dataframe thead th {\n",
       "        text-align: right;\n",
       "    }\n",
       "</style>\n",
       "<table border=\"1\" class=\"dataframe\">\n",
       "  <thead>\n",
       "    <tr style=\"text-align: right;\">\n",
       "      <th></th>\n",
       "      <th>x</th>\n",
       "      <th>y</th>\n",
       "      <th>z</th>\n",
       "    </tr>\n",
       "  </thead>\n",
       "  <tbody>\n",
       "    <tr>\n",
       "      <th>0</th>\n",
       "      <td>1</td>\n",
       "      <td>10</td>\n",
       "      <td>100</td>\n",
       "    </tr>\n",
       "    <tr>\n",
       "      <th>1</th>\n",
       "      <td>2</td>\n",
       "      <td>20</td>\n",
       "      <td>200</td>\n",
       "    </tr>\n",
       "    <tr>\n",
       "      <th>2</th>\n",
       "      <td>3</td>\n",
       "      <td>30</td>\n",
       "      <td>300</td>\n",
       "    </tr>\n",
       "  </tbody>\n",
       "</table>\n",
       "</div>"
      ],
      "text/plain": [
       "   x   y    z\n",
       "0  1  10  100\n",
       "1  2  20  200\n",
       "2  3  30  300"
      ]
     },
     "metadata": {},
     "output_type": "display_data"
    }
   ],
   "source": [
    "# From a numpy array\n",
    "# Only a 2 dimensional array would work in this case, any other dimensional arrays would result in a ValueError\n",
    "\n",
    "arr5 = np.array([[1, 10, 100], [2, 20, 200], [3, 30, 300]])\n",
    "\n",
    "# The following array, if passed into the df constructor function, it would result in the following error\n",
    "# ValueError: Must pass 2-d input. shape=(3, 3, 3)\n",
    "arr_err1 = np.array(\n",
    "    [\n",
    "        [[1, 10, 100], [2, 20, 200], [3, 30, 300]],\n",
    "        [[1, 10, 100], [2, 20, 200], [3, 30, 300]],\n",
    "        [[1, 10, 100], [2, 20, 200], [3, 30, 300]],\n",
    "    ]\n",
    ")\n",
    "\n",
    "df5 = pd.DataFrame(arr5, columns=[\"x\", \"y\", \"z\"])\n",
    "display(df5)\n",
    "\n",
    "# pd.DataFrame() normally doesn't copy numpy arrays by default. so if the array is modified, the values in the dataframe would change as well\n",
    "# However, this can be evaded by passing in `copy=True`"
   ]
  },
  {
   "cell_type": "code",
   "execution_count": 161,
   "metadata": {},
   "outputs": [
    {
     "data": {
      "text/html": [
       "<div>\n",
       "<style scoped>\n",
       "    .dataframe tbody tr th:only-of-type {\n",
       "        vertical-align: middle;\n",
       "    }\n",
       "\n",
       "    .dataframe tbody tr th {\n",
       "        vertical-align: top;\n",
       "    }\n",
       "\n",
       "    .dataframe thead th {\n",
       "        text-align: right;\n",
       "    }\n",
       "</style>\n",
       "<table border=\"1\" class=\"dataframe\">\n",
       "  <thead>\n",
       "    <tr style=\"text-align: right;\">\n",
       "      <th></th>\n",
       "      <th>name</th>\n",
       "      <th>age</th>\n",
       "      <th>skill</th>\n",
       "      <th>country</th>\n",
       "      <th>is_disabled</th>\n",
       "    </tr>\n",
       "  </thead>\n",
       "  <tbody>\n",
       "    <tr>\n",
       "      <th>a</th>\n",
       "      <td>Ananth</td>\n",
       "      <td>21</td>\n",
       "      <td>data science</td>\n",
       "      <td>Sri Lanka</td>\n",
       "      <td>True</td>\n",
       "    </tr>\n",
       "    <tr>\n",
       "      <th>b</th>\n",
       "      <td>John</td>\n",
       "      <td>27</td>\n",
       "      <td>machine learning</td>\n",
       "      <td>United Kingdom</td>\n",
       "      <td>False</td>\n",
       "    </tr>\n",
       "    <tr>\n",
       "      <th>c</th>\n",
       "      <td>Wong</td>\n",
       "      <td>24</td>\n",
       "      <td>front end designing</td>\n",
       "      <td>China</td>\n",
       "      <td>False</td>\n",
       "    </tr>\n",
       "    <tr>\n",
       "      <th>d</th>\n",
       "      <td>Souza</td>\n",
       "      <td>33</td>\n",
       "      <td>UI and UX</td>\n",
       "      <td>Netherlands</td>\n",
       "      <td>False</td>\n",
       "    </tr>\n",
       "    <tr>\n",
       "      <th>e</th>\n",
       "      <td>Jane</td>\n",
       "      <td>19</td>\n",
       "      <td>3D modelling</td>\n",
       "      <td>USA</td>\n",
       "      <td>True</td>\n",
       "    </tr>\n",
       "  </tbody>\n",
       "</table>\n",
       "</div>"
      ],
      "text/plain": [
       "     name  age                skill         country  is_disabled\n",
       "a  Ananth   21         data science       Sri Lanka         True\n",
       "b    John   27     machine learning  United Kingdom        False\n",
       "c    Wong   24  front end designing           China        False\n",
       "d   Souza   33            UI and UX     Netherlands        False\n",
       "e    Jane   19         3D modelling             USA         True"
      ]
     },
     "metadata": {},
     "output_type": "display_data"
    }
   ],
   "source": [
    "# Save a dataframe to file on disk and reloading the dataframe from file\n",
    "df0.to_csv(\"./user_data.csv\")\n",
    "\n",
    "dfuser = pd.read_csv(\"./user_data.csv\", index_col=0)  # Specify the index column\n",
    "display(dfuser)"
   ]
  },
  {
   "cell_type": "markdown",
   "metadata": {},
   "source": [
    "## Retrieving Labels and Data\n"
   ]
  },
  {
   "cell_type": "code",
   "execution_count": 162,
   "metadata": {},
   "outputs": [
    {
     "name": "stdout",
     "output_type": "stream",
     "text": [
      "Index(['a', 'b', 'c', 'd', 'e'], dtype='object')\n",
      "Index(['name', 'age', 'skill', 'country', 'is_disabled'], dtype='object')\n",
      "Int64Index([1, 2, 3, 4, 5], dtype='int64')\n"
     ]
    }
   ],
   "source": [
    "# Get index\n",
    "print(dfuser.index)\n",
    "\n",
    "# get colum names\n",
    "print(dfuser.columns)\n",
    "\n",
    "# Set index\n",
    "dfuser.index = np.arange(1, 6)\n",
    "print(dfuser.index)\n",
    "\n",
    "# Update the index\n",
    "# Below line has been disabled it is easier to work with a numerical index\n",
    "# dfuser.index = ['a', 'b', 'c', 'd', 'e']\n",
    "\n",
    "# A single element of df.index or df.columns can not be edited. will TypeError"
   ]
  },
  {
   "cell_type": "code",
   "execution_count": 163,
   "metadata": {},
   "outputs": [
    {
     "name": "stdout",
     "output_type": "stream",
     "text": [
      "[['Ananth' 21 'data science' 'Sri Lanka' True]\n",
      " ['John' 27 'machine learning' 'United Kingdom' False]\n",
      " ['Wong' 24 'front end designing' 'China' False]\n",
      " ['Souza' 33 'UI and UX' 'Netherlands' False]\n",
      " ['Jane' 19 '3D modelling' 'USA' True]]\n",
      "<class 'numpy.ndarray'> True\n"
     ]
    }
   ],
   "source": [
    "# Retrieving the data as numpy array\n",
    "# Any pandas series, dataframes or sequences can be changed into a numpy array with the methods df.to_numpy of df.values\n",
    "# However df.to_numpy() is more flexible. use copy=False if you want the values to be copied\n",
    "\n",
    "print(dfuser.to_numpy())\n",
    "\n",
    "print(type(dfuser.to_numpy()), type(dfuser.to_numpy()) is type(dfuser.values))"
   ]
  },
  {
   "cell_type": "code",
   "execution_count": 164,
   "metadata": {},
   "outputs": [
    {
     "data": {
      "text/plain": [
       "name           object\n",
       "age             int64\n",
       "skill          object\n",
       "country        object\n",
       "is_disabled    object\n",
       "dtype: object"
      ]
     },
     "execution_count": 164,
     "metadata": {},
     "output_type": "execute_result"
    }
   ],
   "source": [
    "# Change one/more column's dtype\n",
    "dfuser = dfuser.astype({\"is_disabled\": object})\n",
    "\n",
    "# Get column datatypes\n",
    "dfuser.dtypes"
   ]
  },
  {
   "cell_type": "code",
   "execution_count": 165,
   "metadata": {},
   "outputs": [
    {
     "name": "stdout",
     "output_type": "stream",
     "text": [
      "2\n",
      "(5, 5)\n",
      "25\n"
     ]
    },
    {
     "data": {
      "text/plain": [
       "Index          40\n",
       "name           40\n",
       "age            40\n",
       "skill          40\n",
       "country        40\n",
       "is_disabled    40\n",
       "dtype: int64"
      ]
     },
     "metadata": {},
     "output_type": "display_data"
    }
   ],
   "source": [
    "# number of dimensions/dimensional depth: 1 if series, 2 if dataframe\n",
    "print(dfuser.ndim)\n",
    "\n",
    "# shape: number of rows x number of columns\n",
    "print(dfuser.shape)\n",
    "\n",
    "# size: number of individual values in the dataframe or series\n",
    "print(dfuser.size)\n",
    "\n",
    "# bytes allocated in memory\n",
    "display(dfuser.memory_usage())"
   ]
  },
  {
   "cell_type": "markdown",
   "metadata": {},
   "source": [
    "## Accessing and Modifying Data\n"
   ]
  },
  {
   "cell_type": "code",
   "execution_count": 166,
   "metadata": {},
   "outputs": [
    {
     "data": {
      "text/html": [
       "<div>\n",
       "<style scoped>\n",
       "    .dataframe tbody tr th:only-of-type {\n",
       "        vertical-align: middle;\n",
       "    }\n",
       "\n",
       "    .dataframe tbody tr th {\n",
       "        vertical-align: top;\n",
       "    }\n",
       "\n",
       "    .dataframe thead th {\n",
       "        text-align: right;\n",
       "    }\n",
       "</style>\n",
       "<table border=\"1\" class=\"dataframe\">\n",
       "  <thead>\n",
       "    <tr style=\"text-align: right;\">\n",
       "      <th></th>\n",
       "      <th>skill</th>\n",
       "    </tr>\n",
       "  </thead>\n",
       "  <tbody>\n",
       "    <tr>\n",
       "      <th>1</th>\n",
       "      <td>data science</td>\n",
       "    </tr>\n",
       "    <tr>\n",
       "      <th>2</th>\n",
       "      <td>machine learning</td>\n",
       "    </tr>\n",
       "    <tr>\n",
       "      <th>3</th>\n",
       "      <td>front end designing</td>\n",
       "    </tr>\n",
       "    <tr>\n",
       "      <th>4</th>\n",
       "      <td>UI and UX</td>\n",
       "    </tr>\n",
       "    <tr>\n",
       "      <th>5</th>\n",
       "      <td>3D modelling</td>\n",
       "    </tr>\n",
       "  </tbody>\n",
       "</table>\n",
       "</div>"
      ],
      "text/plain": [
       "                 skill\n",
       "1         data science\n",
       "2     machine learning\n",
       "3  front end designing\n",
       "4            UI and UX\n",
       "5         3D modelling"
      ]
     },
     "metadata": {},
     "output_type": "display_data"
    },
    {
     "data": {
      "text/plain": [
       "1    Ananth\n",
       "2      John\n",
       "3      Wong\n",
       "4     Souza\n",
       "5      Jane\n",
       "Name: name, dtype: object"
      ]
     },
     "metadata": {},
     "output_type": "display_data"
    }
   ],
   "source": [
    "# Access a particular column\n",
    "display(dfuser[[\"skill\"]])  # double set of square brackets to return a dataframe\n",
    "\n",
    "# Can use dot notation if column name is a valid python identifier\n",
    "display(dfuser.name)"
   ]
  },
  {
   "cell_type": "markdown",
   "metadata": {},
   "source": [
    "### Accessors\n",
    "\n",
    "-   An **accessor** method is a function that returns a copy of the internal variable or a computed value of an object.\n",
    "    A **mutator** is a method that simply changes an internal value of an object.\n",
    "-   Pandas has four accessors in total:\n",
    "    -   `.loc[]` - access values by row, column labels.\n",
    "    -   `.iloc[]` - access values by 0 based index.\n",
    "    -   `.at[]` - access single value by (row, column) labels.\n",
    "    -   `.iat[]` - access single value by 0 based index.\n",
    "-   `.loc[]` and `.iloc[]` supports slicing and Numpy style indexing.\n"
   ]
  },
  {
   "cell_type": "markdown",
   "metadata": {},
   "source": [
    "#### `.loc[]` & `.iloc[]`\n"
   ]
  },
  {
   "cell_type": "code",
   "execution_count": 167,
   "metadata": {},
   "outputs": [
    {
     "data": {
      "text/plain": [
       "name                 Ananth\n",
       "age                      21\n",
       "skill          data science\n",
       "country           Sri Lanka\n",
       "is_disabled            True\n",
       "Name: 1, dtype: object"
      ]
     },
     "metadata": {},
     "output_type": "display_data"
    },
    {
     "data": {
      "text/plain": [
       "name                 Ananth\n",
       "age                      21\n",
       "skill          data science\n",
       "country           Sri Lanka\n",
       "is_disabled            True\n",
       "Name: 1, dtype: object"
      ]
     },
     "metadata": {},
     "output_type": "display_data"
    }
   ],
   "source": [
    "# Access a row\n",
    "display(dfuser.loc[1])\n",
    "display(dfuser.iloc[0])"
   ]
  },
  {
   "cell_type": "code",
   "execution_count": 168,
   "metadata": {},
   "outputs": [
    {
     "data": {
      "text/plain": [
       "1    Ananth\n",
       "2      John\n",
       "3      Wong\n",
       "4     Souza\n",
       "5      Jane\n",
       "Name: name, dtype: object"
      ]
     },
     "metadata": {},
     "output_type": "display_data"
    },
    {
     "data": {
      "text/plain": [
       "1    Ananth\n",
       "2      John\n",
       "3      Wong\n",
       "4     Souza\n",
       "5      Jane\n",
       "Name: name, dtype: object"
      ]
     },
     "metadata": {},
     "output_type": "display_data"
    }
   ],
   "source": [
    "# Access a column\n",
    "display(dfuser.loc[:, \"name\"])\n",
    "display(dfuser.iloc[:, 0])"
   ]
  },
  {
   "cell_type": "code",
   "execution_count": 169,
   "metadata": {},
   "outputs": [
    {
     "data": {
      "text/html": [
       "<div>\n",
       "<style scoped>\n",
       "    .dataframe tbody tr th:only-of-type {\n",
       "        vertical-align: middle;\n",
       "    }\n",
       "\n",
       "    .dataframe tbody tr th {\n",
       "        vertical-align: top;\n",
       "    }\n",
       "\n",
       "    .dataframe thead th {\n",
       "        text-align: right;\n",
       "    }\n",
       "</style>\n",
       "<table border=\"1\" class=\"dataframe\">\n",
       "  <thead>\n",
       "    <tr style=\"text-align: right;\">\n",
       "      <th></th>\n",
       "      <th>name</th>\n",
       "      <th>skill</th>\n",
       "    </tr>\n",
       "  </thead>\n",
       "  <tbody>\n",
       "    <tr>\n",
       "      <th>1</th>\n",
       "      <td>Ananth</td>\n",
       "      <td>data science</td>\n",
       "    </tr>\n",
       "    <tr>\n",
       "      <th>2</th>\n",
       "      <td>John</td>\n",
       "      <td>machine learning</td>\n",
       "    </tr>\n",
       "    <tr>\n",
       "      <th>3</th>\n",
       "      <td>Wong</td>\n",
       "      <td>front end designing</td>\n",
       "    </tr>\n",
       "    <tr>\n",
       "      <th>4</th>\n",
       "      <td>Souza</td>\n",
       "      <td>UI and UX</td>\n",
       "    </tr>\n",
       "  </tbody>\n",
       "</table>\n",
       "</div>"
      ],
      "text/plain": [
       "     name                skill\n",
       "1  Ananth         data science\n",
       "2    John     machine learning\n",
       "3    Wong  front end designing\n",
       "4   Souza            UI and UX"
      ]
     },
     "metadata": {},
     "output_type": "display_data"
    },
    {
     "data": {
      "text/html": [
       "<div>\n",
       "<style scoped>\n",
       "    .dataframe tbody tr th:only-of-type {\n",
       "        vertical-align: middle;\n",
       "    }\n",
       "\n",
       "    .dataframe tbody tr th {\n",
       "        vertical-align: top;\n",
       "    }\n",
       "\n",
       "    .dataframe thead th {\n",
       "        text-align: right;\n",
       "    }\n",
       "</style>\n",
       "<table border=\"1\" class=\"dataframe\">\n",
       "  <thead>\n",
       "    <tr style=\"text-align: right;\">\n",
       "      <th></th>\n",
       "      <th>name</th>\n",
       "      <th>skill</th>\n",
       "    </tr>\n",
       "  </thead>\n",
       "  <tbody>\n",
       "    <tr>\n",
       "      <th>1</th>\n",
       "      <td>Ananth</td>\n",
       "      <td>data science</td>\n",
       "    </tr>\n",
       "    <tr>\n",
       "      <th>2</th>\n",
       "      <td>John</td>\n",
       "      <td>machine learning</td>\n",
       "    </tr>\n",
       "    <tr>\n",
       "      <th>3</th>\n",
       "      <td>Wong</td>\n",
       "      <td>front end designing</td>\n",
       "    </tr>\n",
       "    <tr>\n",
       "      <th>4</th>\n",
       "      <td>Souza</td>\n",
       "      <td>UI and UX</td>\n",
       "    </tr>\n",
       "  </tbody>\n",
       "</table>\n",
       "</div>"
      ],
      "text/plain": [
       "     name                skill\n",
       "1  Ananth         data science\n",
       "2    John     machine learning\n",
       "3    Wong  front end designing\n",
       "4   Souza            UI and UX"
      ]
     },
     "metadata": {},
     "output_type": "display_data"
    }
   ],
   "source": [
    "# numpy-like slicing\n",
    "display(\n",
    "    dfuser.loc[1:4, [\"name\", \"skill\"]]\n",
    ")  # Rows 1 through 4, both indices are inclusive\n",
    "\n",
    "display(dfuser.iloc[0:4, [0, 2]])  # Rows 0 through 3, stop index is exclusive"
   ]
  },
  {
   "cell_type": "markdown",
   "metadata": {},
   "source": [
    "#### `.at[]` & `.iat[]`\n",
    "\n",
    "-   recommended for accessing single values\n"
   ]
  },
  {
   "cell_type": "code",
   "execution_count": 170,
   "metadata": {},
   "outputs": [
    {
     "data": {
      "text/plain": [
       "21"
      ]
     },
     "metadata": {},
     "output_type": "display_data"
    },
    {
     "data": {
      "text/plain": [
       "21"
      ]
     },
     "metadata": {},
     "output_type": "display_data"
    }
   ],
   "source": [
    "display(dfuser.at[1, \"age\"])\n",
    "display(dfuser.iat[0, 1])"
   ]
  },
  {
   "cell_type": "markdown",
   "metadata": {},
   "source": [
    "### Modifying Data\n"
   ]
  },
  {
   "cell_type": "code",
   "execution_count": 171,
   "metadata": {},
   "outputs": [
    {
     "data": {
      "text/plain": [
       "1    95\n",
       "2    15\n",
       "3    26\n",
       "4    30\n",
       "5    30\n",
       "Name: age, dtype: int64"
      ]
     },
     "execution_count": 171,
     "metadata": {},
     "output_type": "execute_result"
    }
   ],
   "source": [
    "dfuser.loc[1:3, \"age\"] = [95, 15, 26]  # Set new value for the selected range\n",
    "dfuser.iloc[3:, 1] = 30\n",
    "dfuser.age"
   ]
  },
  {
   "cell_type": "code",
   "execution_count": 172,
   "metadata": {},
   "outputs": [
    {
     "data": {
      "text/html": [
       "<div>\n",
       "<style scoped>\n",
       "    .dataframe tbody tr th:only-of-type {\n",
       "        vertical-align: middle;\n",
       "    }\n",
       "\n",
       "    .dataframe tbody tr th {\n",
       "        vertical-align: top;\n",
       "    }\n",
       "\n",
       "    .dataframe thead th {\n",
       "        text-align: right;\n",
       "    }\n",
       "</style>\n",
       "<table border=\"1\" class=\"dataframe\">\n",
       "  <thead>\n",
       "    <tr style=\"text-align: right;\">\n",
       "      <th></th>\n",
       "      <th>name</th>\n",
       "      <th>age</th>\n",
       "      <th>skill</th>\n",
       "      <th>country</th>\n",
       "      <th>is_disabled</th>\n",
       "    </tr>\n",
       "  </thead>\n",
       "  <tbody>\n",
       "    <tr>\n",
       "      <th>1</th>\n",
       "      <td>Ananth</td>\n",
       "      <td>95</td>\n",
       "      <td>data science</td>\n",
       "      <td>Sri Lanka</td>\n",
       "      <td>True</td>\n",
       "    </tr>\n",
       "    <tr>\n",
       "      <th>2</th>\n",
       "      <td>John</td>\n",
       "      <td>15</td>\n",
       "      <td>machine learning</td>\n",
       "      <td>United Kingdom</td>\n",
       "      <td>False</td>\n",
       "    </tr>\n",
       "    <tr>\n",
       "      <th>3</th>\n",
       "      <td>Wong</td>\n",
       "      <td>26</td>\n",
       "      <td>front end designing</td>\n",
       "      <td>China</td>\n",
       "      <td>False</td>\n",
       "    </tr>\n",
       "    <tr>\n",
       "      <th>4</th>\n",
       "      <td>Souza</td>\n",
       "      <td>30</td>\n",
       "      <td>UI and UX</td>\n",
       "      <td>Netherlands</td>\n",
       "      <td>False</td>\n",
       "    </tr>\n",
       "    <tr>\n",
       "      <th>5</th>\n",
       "      <td>Shaaruk</td>\n",
       "      <td>30</td>\n",
       "      <td>3D modelling</td>\n",
       "      <td>USA</td>\n",
       "      <td>True</td>\n",
       "    </tr>\n",
       "  </tbody>\n",
       "</table>\n",
       "</div>"
      ],
      "text/plain": [
       "      name  age                skill         country is_disabled\n",
       "1   Ananth   95         data science       Sri Lanka        True\n",
       "2     John   15     machine learning  United Kingdom       False\n",
       "3     Wong   26  front end designing           China       False\n",
       "4    Souza   30            UI and UX     Netherlands       False\n",
       "5  Shaaruk   30         3D modelling             USA        True"
      ]
     },
     "execution_count": 172,
     "metadata": {},
     "output_type": "execute_result"
    }
   ],
   "source": [
    "# Reverse indexing can be used as well\n",
    "dfuser.iloc[-1, 0] = \"Shaaruk\"\n",
    "dfuser"
   ]
  },
  {
   "cell_type": "markdown",
   "metadata": {},
   "source": [
    "## Inserting and Deleting Data\n"
   ]
  },
  {
   "cell_type": "markdown",
   "metadata": {},
   "source": [
    "### Inserting and deleting rows\n"
   ]
  },
  {
   "cell_type": "markdown",
   "metadata": {},
   "source": [
    "#### Inserting rows\n"
   ]
  },
  {
   "cell_type": "code",
   "execution_count": 173,
   "metadata": {},
   "outputs": [],
   "source": [
    "# Can be created from a dictionary or other iterable as well\n",
    "# The index has to be the column names this time since the dimensions are different this time\n",
    "new_row = pd.Series([\"Bruce\", 27, \"automation\", \"India\", False], index=dfuser.columns)"
   ]
  },
  {
   "cell_type": "code",
   "execution_count": 174,
   "metadata": {},
   "outputs": [
    {
     "name": "stderr",
     "output_type": "stream",
     "text": [
      "C:\\Users\\govar\\AppData\\Local\\Temp\\ipykernel_10092\\3787196142.py:5: FutureWarning: The frame.append method is deprecated and will be removed from pandas in a future version. Use pandas.concat instead.\n",
      "  dfuser = dfuser.append(new_row, ignore_index=True)\n"
     ]
    }
   ],
   "source": [
    "# Append the row (Pandas Series) to the existing dataframe\n",
    "# The series, created above, doesn't have a value to the name parameter.\n",
    "# For such a Series object to be added to an existing dataframe, ignore_index=True has to be passed in, since the Series object would have an index of null.\n",
    "# By doing so, you would basically reset the index with numerals starting from 0\n",
    "dfuser = dfuser.append(new_row, ignore_index=True)"
   ]
  },
  {
   "cell_type": "code",
   "execution_count": 175,
   "metadata": {},
   "outputs": [
    {
     "name": "stderr",
     "output_type": "stream",
     "text": [
      "C:\\Users\\govar\\AppData\\Local\\Temp\\ipykernel_10092\\767836824.py:7: FutureWarning: The frame.append method is deprecated and will be removed from pandas in a future version. Use pandas.concat instead.\n",
      "  dfuser = dfuser.append(new_row_1)\n"
     ]
    },
    {
     "data": {
      "text/html": [
       "<div>\n",
       "<style scoped>\n",
       "    .dataframe tbody tr th:only-of-type {\n",
       "        vertical-align: middle;\n",
       "    }\n",
       "\n",
       "    .dataframe tbody tr th {\n",
       "        vertical-align: top;\n",
       "    }\n",
       "\n",
       "    .dataframe thead th {\n",
       "        text-align: right;\n",
       "    }\n",
       "</style>\n",
       "<table border=\"1\" class=\"dataframe\">\n",
       "  <thead>\n",
       "    <tr style=\"text-align: right;\">\n",
       "      <th></th>\n",
       "      <th>name</th>\n",
       "      <th>age</th>\n",
       "      <th>skill</th>\n",
       "      <th>country</th>\n",
       "      <th>is_disabled</th>\n",
       "    </tr>\n",
       "  </thead>\n",
       "  <tbody>\n",
       "    <tr>\n",
       "      <th>0</th>\n",
       "      <td>Ananth</td>\n",
       "      <td>95</td>\n",
       "      <td>data science</td>\n",
       "      <td>Sri Lanka</td>\n",
       "      <td>True</td>\n",
       "    </tr>\n",
       "    <tr>\n",
       "      <th>1</th>\n",
       "      <td>John</td>\n",
       "      <td>15</td>\n",
       "      <td>machine learning</td>\n",
       "      <td>United Kingdom</td>\n",
       "      <td>False</td>\n",
       "    </tr>\n",
       "    <tr>\n",
       "      <th>2</th>\n",
       "      <td>Wong</td>\n",
       "      <td>26</td>\n",
       "      <td>front end designing</td>\n",
       "      <td>China</td>\n",
       "      <td>False</td>\n",
       "    </tr>\n",
       "    <tr>\n",
       "      <th>3</th>\n",
       "      <td>Souza</td>\n",
       "      <td>30</td>\n",
       "      <td>UI and UX</td>\n",
       "      <td>Netherlands</td>\n",
       "      <td>False</td>\n",
       "    </tr>\n",
       "    <tr>\n",
       "      <th>4</th>\n",
       "      <td>Shaaruk</td>\n",
       "      <td>30</td>\n",
       "      <td>3D modelling</td>\n",
       "      <td>USA</td>\n",
       "      <td>True</td>\n",
       "    </tr>\n",
       "    <tr>\n",
       "      <th>5</th>\n",
       "      <td>Bruce</td>\n",
       "      <td>27</td>\n",
       "      <td>automation</td>\n",
       "      <td>India</td>\n",
       "      <td>False</td>\n",
       "    </tr>\n",
       "    <tr>\n",
       "      <th>9</th>\n",
       "      <td>Megan</td>\n",
       "      <td>37</td>\n",
       "      <td>digital art</td>\n",
       "      <td>USA</td>\n",
       "      <td>True</td>\n",
       "    </tr>\n",
       "  </tbody>\n",
       "</table>\n",
       "</div>"
      ],
      "text/plain": [
       "      name  age                skill         country is_disabled\n",
       "0   Ananth   95         data science       Sri Lanka        True\n",
       "1     John   15     machine learning  United Kingdom       False\n",
       "2     Wong   26  front end designing           China       False\n",
       "3    Souza   30            UI and UX     Netherlands       False\n",
       "4  Shaaruk   30         3D modelling             USA        True\n",
       "5    Bruce   27           automation           India       False\n",
       "9    Megan   37          digital art             USA        True"
      ]
     },
     "metadata": {},
     "output_type": "display_data"
    }
   ],
   "source": [
    "# However the above consequence can be evaded by giving the Series a name\n",
    "# The name attribute of a Series acts as the index of that row in a dataset\n",
    "\n",
    "new_row_1 = pd.Series(\n",
    "    [\"Megan\", 37, \"digital art\", \"USA\", True], index=dfuser.columns, name=9\n",
    ")\n",
    "dfuser = dfuser.append(new_row_1)\n",
    "\n",
    "display(dfuser)"
   ]
  },
  {
   "cell_type": "markdown",
   "metadata": {},
   "source": [
    "#### Deleting rows\n"
   ]
  },
  {
   "cell_type": "code",
   "execution_count": 176,
   "metadata": {},
   "outputs": [
    {
     "data": {
      "text/html": [
       "<div>\n",
       "<style scoped>\n",
       "    .dataframe tbody tr th:only-of-type {\n",
       "        vertical-align: middle;\n",
       "    }\n",
       "\n",
       "    .dataframe tbody tr th {\n",
       "        vertical-align: top;\n",
       "    }\n",
       "\n",
       "    .dataframe thead th {\n",
       "        text-align: right;\n",
       "    }\n",
       "</style>\n",
       "<table border=\"1\" class=\"dataframe\">\n",
       "  <thead>\n",
       "    <tr style=\"text-align: right;\">\n",
       "      <th></th>\n",
       "      <th>name</th>\n",
       "      <th>age</th>\n",
       "      <th>skill</th>\n",
       "      <th>country</th>\n",
       "      <th>is_disabled</th>\n",
       "    </tr>\n",
       "  </thead>\n",
       "  <tbody>\n",
       "    <tr>\n",
       "      <th>0</th>\n",
       "      <td>Ananth</td>\n",
       "      <td>95</td>\n",
       "      <td>data science</td>\n",
       "      <td>Sri Lanka</td>\n",
       "      <td>True</td>\n",
       "    </tr>\n",
       "    <tr>\n",
       "      <th>1</th>\n",
       "      <td>John</td>\n",
       "      <td>15</td>\n",
       "      <td>machine learning</td>\n",
       "      <td>United Kingdom</td>\n",
       "      <td>False</td>\n",
       "    </tr>\n",
       "    <tr>\n",
       "      <th>2</th>\n",
       "      <td>Wong</td>\n",
       "      <td>26</td>\n",
       "      <td>front end designing</td>\n",
       "      <td>China</td>\n",
       "      <td>False</td>\n",
       "    </tr>\n",
       "    <tr>\n",
       "      <th>3</th>\n",
       "      <td>Souza</td>\n",
       "      <td>30</td>\n",
       "      <td>UI and UX</td>\n",
       "      <td>Netherlands</td>\n",
       "      <td>False</td>\n",
       "    </tr>\n",
       "    <tr>\n",
       "      <th>4</th>\n",
       "      <td>Shaaruk</td>\n",
       "      <td>30</td>\n",
       "      <td>3D modelling</td>\n",
       "      <td>USA</td>\n",
       "      <td>True</td>\n",
       "    </tr>\n",
       "    <tr>\n",
       "      <th>5</th>\n",
       "      <td>Bruce</td>\n",
       "      <td>27</td>\n",
       "      <td>automation</td>\n",
       "      <td>India</td>\n",
       "      <td>False</td>\n",
       "    </tr>\n",
       "    <tr>\n",
       "      <th>9</th>\n",
       "      <td>Megan</td>\n",
       "      <td>37</td>\n",
       "      <td>digital art</td>\n",
       "      <td>USA</td>\n",
       "      <td>True</td>\n",
       "    </tr>\n",
       "  </tbody>\n",
       "</table>\n",
       "</div>"
      ],
      "text/plain": [
       "      name  age                skill         country is_disabled\n",
       "0   Ananth   95         data science       Sri Lanka        True\n",
       "1     John   15     machine learning  United Kingdom       False\n",
       "2     Wong   26  front end designing           China       False\n",
       "3    Souza   30            UI and UX     Netherlands       False\n",
       "4  Shaaruk   30         3D modelling             USA        True\n",
       "5    Bruce   27           automation           India       False\n",
       "9    Megan   37          digital art             USA        True"
      ]
     },
     "metadata": {},
     "output_type": "display_data"
    }
   ],
   "source": [
    "# Delete a row, or a set of rows\n",
    "# The data to be deleted can be specified in multiple ways\n",
    "#       label=n, axis=0 = Delete a row\n",
    "#       label=x, axis=1 = Delete a column\n",
    "#       index=n = Delete a row\n",
    "#       columns=n = Delete a column\n",
    "\n",
    "# Remove Megan's row\n",
    "dfuser.drop(\n",
    "    labels=[9], axis=0\n",
    ")  # inplace=True has to be passed to apply changes to the original dataframe\n",
    "display(dfuser)"
   ]
  },
  {
   "cell_type": "code",
   "execution_count": 177,
   "metadata": {},
   "outputs": [
    {
     "data": {
      "text/html": [
       "<div>\n",
       "<style scoped>\n",
       "    .dataframe tbody tr th:only-of-type {\n",
       "        vertical-align: middle;\n",
       "    }\n",
       "\n",
       "    .dataframe tbody tr th {\n",
       "        vertical-align: top;\n",
       "    }\n",
       "\n",
       "    .dataframe thead th {\n",
       "        text-align: right;\n",
       "    }\n",
       "</style>\n",
       "<table border=\"1\" class=\"dataframe\">\n",
       "  <thead>\n",
       "    <tr style=\"text-align: right;\">\n",
       "      <th></th>\n",
       "      <th>name</th>\n",
       "      <th>age</th>\n",
       "      <th>skill</th>\n",
       "      <th>country</th>\n",
       "      <th>is_disabled</th>\n",
       "    </tr>\n",
       "  </thead>\n",
       "  <tbody>\n",
       "    <tr>\n",
       "      <th>0</th>\n",
       "      <td>Ananth</td>\n",
       "      <td>95</td>\n",
       "      <td>data science</td>\n",
       "      <td>Sri Lanka</td>\n",
       "      <td>True</td>\n",
       "    </tr>\n",
       "    <tr>\n",
       "      <th>1</th>\n",
       "      <td>John</td>\n",
       "      <td>15</td>\n",
       "      <td>machine learning</td>\n",
       "      <td>United Kingdom</td>\n",
       "      <td>False</td>\n",
       "    </tr>\n",
       "    <tr>\n",
       "      <th>2</th>\n",
       "      <td>Wong</td>\n",
       "      <td>26</td>\n",
       "      <td>front end designing</td>\n",
       "      <td>China</td>\n",
       "      <td>False</td>\n",
       "    </tr>\n",
       "    <tr>\n",
       "      <th>3</th>\n",
       "      <td>Souza</td>\n",
       "      <td>30</td>\n",
       "      <td>UI and UX</td>\n",
       "      <td>Netherlands</td>\n",
       "      <td>False</td>\n",
       "    </tr>\n",
       "    <tr>\n",
       "      <th>4</th>\n",
       "      <td>Shaaruk</td>\n",
       "      <td>30</td>\n",
       "      <td>3D modelling</td>\n",
       "      <td>USA</td>\n",
       "      <td>True</td>\n",
       "    </tr>\n",
       "    <tr>\n",
       "      <th>5</th>\n",
       "      <td>Bruce</td>\n",
       "      <td>27</td>\n",
       "      <td>automation</td>\n",
       "      <td>India</td>\n",
       "      <td>False</td>\n",
       "    </tr>\n",
       "    <tr>\n",
       "      <th>9</th>\n",
       "      <td>Megan</td>\n",
       "      <td>37</td>\n",
       "      <td>digital art</td>\n",
       "      <td>USA</td>\n",
       "      <td>True</td>\n",
       "    </tr>\n",
       "  </tbody>\n",
       "</table>\n",
       "</div>"
      ],
      "text/plain": [
       "      name  age                skill         country is_disabled\n",
       "0   Ananth   95         data science       Sri Lanka        True\n",
       "1     John   15     machine learning  United Kingdom       False\n",
       "2     Wong   26  front end designing           China       False\n",
       "3    Souza   30            UI and UX     Netherlands       False\n",
       "4  Shaaruk   30         3D modelling             USA        True\n",
       "5    Bruce   27           automation           India       False\n",
       "9    Megan   37          digital art             USA        True"
      ]
     },
     "metadata": {},
     "output_type": "display_data"
    }
   ],
   "source": [
    "# Remove Bruce's row\n",
    "dfuser.drop(\n",
    "    index=5\n",
    ")  # inplace=True has to be passed to apply changes to the original dataframe\n",
    "display(dfuser)"
   ]
  },
  {
   "cell_type": "markdown",
   "metadata": {},
   "source": [
    "### Inserting and deleting columns\n"
   ]
  },
  {
   "cell_type": "markdown",
   "metadata": {},
   "source": [
    "#### Inserting columns\n"
   ]
  },
  {
   "cell_type": "code",
   "execution_count": 178,
   "metadata": {},
   "outputs": [
    {
     "data": {
      "text/html": [
       "<div>\n",
       "<style scoped>\n",
       "    .dataframe tbody tr th:only-of-type {\n",
       "        vertical-align: middle;\n",
       "    }\n",
       "\n",
       "    .dataframe tbody tr th {\n",
       "        vertical-align: top;\n",
       "    }\n",
       "\n",
       "    .dataframe thead th {\n",
       "        text-align: right;\n",
       "    }\n",
       "</style>\n",
       "<table border=\"1\" class=\"dataframe\">\n",
       "  <thead>\n",
       "    <tr style=\"text-align: right;\">\n",
       "      <th></th>\n",
       "      <th>name</th>\n",
       "      <th>age</th>\n",
       "      <th>skill</th>\n",
       "      <th>country</th>\n",
       "      <th>is_disabled</th>\n",
       "      <th>experience</th>\n",
       "    </tr>\n",
       "  </thead>\n",
       "  <tbody>\n",
       "    <tr>\n",
       "      <th>0</th>\n",
       "      <td>Ananth</td>\n",
       "      <td>95</td>\n",
       "      <td>data science</td>\n",
       "      <td>Sri Lanka</td>\n",
       "      <td>True</td>\n",
       "      <td>1.0</td>\n",
       "    </tr>\n",
       "    <tr>\n",
       "      <th>1</th>\n",
       "      <td>John</td>\n",
       "      <td>15</td>\n",
       "      <td>machine learning</td>\n",
       "      <td>United Kingdom</td>\n",
       "      <td>False</td>\n",
       "      <td>0.0</td>\n",
       "    </tr>\n",
       "    <tr>\n",
       "      <th>2</th>\n",
       "      <td>Wong</td>\n",
       "      <td>26</td>\n",
       "      <td>front end designing</td>\n",
       "      <td>China</td>\n",
       "      <td>False</td>\n",
       "      <td>3.0</td>\n",
       "    </tr>\n",
       "    <tr>\n",
       "      <th>3</th>\n",
       "      <td>Souza</td>\n",
       "      <td>30</td>\n",
       "      <td>UI and UX</td>\n",
       "      <td>Netherlands</td>\n",
       "      <td>False</td>\n",
       "      <td>7.0</td>\n",
       "    </tr>\n",
       "    <tr>\n",
       "      <th>4</th>\n",
       "      <td>Shaaruk</td>\n",
       "      <td>30</td>\n",
       "      <td>3D modelling</td>\n",
       "      <td>USA</td>\n",
       "      <td>True</td>\n",
       "      <td>2.0</td>\n",
       "    </tr>\n",
       "    <tr>\n",
       "      <th>5</th>\n",
       "      <td>Bruce</td>\n",
       "      <td>27</td>\n",
       "      <td>automation</td>\n",
       "      <td>India</td>\n",
       "      <td>False</td>\n",
       "      <td>0.5</td>\n",
       "    </tr>\n",
       "    <tr>\n",
       "      <th>9</th>\n",
       "      <td>Megan</td>\n",
       "      <td>37</td>\n",
       "      <td>digital art</td>\n",
       "      <td>USA</td>\n",
       "      <td>True</td>\n",
       "      <td>4.0</td>\n",
       "    </tr>\n",
       "  </tbody>\n",
       "</table>\n",
       "</div>"
      ],
      "text/plain": [
       "      name  age                skill         country is_disabled  experience\n",
       "0   Ananth   95         data science       Sri Lanka        True         1.0\n",
       "1     John   15     machine learning  United Kingdom       False         0.0\n",
       "2     Wong   26  front end designing           China       False         3.0\n",
       "3    Souza   30            UI and UX     Netherlands       False         7.0\n",
       "4  Shaaruk   30         3D modelling             USA        True         2.0\n",
       "5    Bruce   27           automation           India       False         0.5\n",
       "9    Megan   37          digital art             USA        True         4.0"
      ]
     },
     "metadata": {},
     "output_type": "display_data"
    }
   ],
   "source": [
    "# Just like adding a key-value pair to a dictionary\n",
    "dfuser[\"experience\"] = [1, 0, 3, 7, 2, 1 / 2, 4]\n",
    "display(dfuser)"
   ]
  },
  {
   "cell_type": "code",
   "execution_count": 179,
   "metadata": {},
   "outputs": [
    {
     "data": {
      "text/html": [
       "<div>\n",
       "<style scoped>\n",
       "    .dataframe tbody tr th:only-of-type {\n",
       "        vertical-align: middle;\n",
       "    }\n",
       "\n",
       "    .dataframe tbody tr th {\n",
       "        vertical-align: top;\n",
       "    }\n",
       "\n",
       "    .dataframe thead th {\n",
       "        text-align: right;\n",
       "    }\n",
       "</style>\n",
       "<table border=\"1\" class=\"dataframe\">\n",
       "  <thead>\n",
       "    <tr style=\"text-align: right;\">\n",
       "      <th></th>\n",
       "      <th>name</th>\n",
       "      <th>age</th>\n",
       "      <th>skill</th>\n",
       "      <th>country</th>\n",
       "      <th>is_disabled</th>\n",
       "      <th>experience</th>\n",
       "      <th>criminal_record</th>\n",
       "    </tr>\n",
       "  </thead>\n",
       "  <tbody>\n",
       "    <tr>\n",
       "      <th>0</th>\n",
       "      <td>Ananth</td>\n",
       "      <td>95</td>\n",
       "      <td>data science</td>\n",
       "      <td>Sri Lanka</td>\n",
       "      <td>True</td>\n",
       "      <td>1.0</td>\n",
       "      <td>False</td>\n",
       "    </tr>\n",
       "    <tr>\n",
       "      <th>1</th>\n",
       "      <td>John</td>\n",
       "      <td>15</td>\n",
       "      <td>machine learning</td>\n",
       "      <td>United Kingdom</td>\n",
       "      <td>False</td>\n",
       "      <td>0.0</td>\n",
       "      <td>False</td>\n",
       "    </tr>\n",
       "    <tr>\n",
       "      <th>2</th>\n",
       "      <td>Wong</td>\n",
       "      <td>26</td>\n",
       "      <td>front end designing</td>\n",
       "      <td>China</td>\n",
       "      <td>False</td>\n",
       "      <td>3.0</td>\n",
       "      <td>False</td>\n",
       "    </tr>\n",
       "    <tr>\n",
       "      <th>3</th>\n",
       "      <td>Souza</td>\n",
       "      <td>30</td>\n",
       "      <td>UI and UX</td>\n",
       "      <td>Netherlands</td>\n",
       "      <td>False</td>\n",
       "      <td>7.0</td>\n",
       "      <td>False</td>\n",
       "    </tr>\n",
       "    <tr>\n",
       "      <th>4</th>\n",
       "      <td>Shaaruk</td>\n",
       "      <td>30</td>\n",
       "      <td>3D modelling</td>\n",
       "      <td>USA</td>\n",
       "      <td>True</td>\n",
       "      <td>2.0</td>\n",
       "      <td>False</td>\n",
       "    </tr>\n",
       "    <tr>\n",
       "      <th>5</th>\n",
       "      <td>Bruce</td>\n",
       "      <td>27</td>\n",
       "      <td>automation</td>\n",
       "      <td>India</td>\n",
       "      <td>False</td>\n",
       "      <td>0.5</td>\n",
       "      <td>False</td>\n",
       "    </tr>\n",
       "    <tr>\n",
       "      <th>9</th>\n",
       "      <td>Megan</td>\n",
       "      <td>37</td>\n",
       "      <td>digital art</td>\n",
       "      <td>USA</td>\n",
       "      <td>True</td>\n",
       "      <td>4.0</td>\n",
       "      <td>False</td>\n",
       "    </tr>\n",
       "  </tbody>\n",
       "</table>\n",
       "</div>"
      ],
      "text/plain": [
       "      name  age                skill         country is_disabled  experience  \\\n",
       "0   Ananth   95         data science       Sri Lanka        True         1.0   \n",
       "1     John   15     machine learning  United Kingdom       False         0.0   \n",
       "2     Wong   26  front end designing           China       False         3.0   \n",
       "3    Souza   30            UI and UX     Netherlands       False         7.0   \n",
       "4  Shaaruk   30         3D modelling             USA        True         2.0   \n",
       "5    Bruce   27           automation           India       False         0.5   \n",
       "9    Megan   37          digital art             USA        True         4.0   \n",
       "\n",
       "   criminal_record  \n",
       "0            False  \n",
       "1            False  \n",
       "2            False  \n",
       "3            False  \n",
       "4            False  \n",
       "5            False  \n",
       "9            False  "
      ]
     },
     "metadata": {},
     "output_type": "display_data"
    }
   ],
   "source": [
    "# Add a column with a single value\n",
    "dfuser[\"criminal_record\"] = False\n",
    "display(dfuser)"
   ]
  },
  {
   "cell_type": "code",
   "execution_count": 180,
   "metadata": {},
   "outputs": [
    {
     "data": {
      "text/html": [
       "<div>\n",
       "<style scoped>\n",
       "    .dataframe tbody tr th:only-of-type {\n",
       "        vertical-align: middle;\n",
       "    }\n",
       "\n",
       "    .dataframe tbody tr th {\n",
       "        vertical-align: top;\n",
       "    }\n",
       "\n",
       "    .dataframe thead th {\n",
       "        text-align: right;\n",
       "    }\n",
       "</style>\n",
       "<table border=\"1\" class=\"dataframe\">\n",
       "  <thead>\n",
       "    <tr style=\"text-align: right;\">\n",
       "      <th></th>\n",
       "      <th>name</th>\n",
       "      <th>age</th>\n",
       "      <th>gender</th>\n",
       "      <th>skill</th>\n",
       "      <th>country</th>\n",
       "      <th>is_disabled</th>\n",
       "      <th>experience</th>\n",
       "      <th>criminal_record</th>\n",
       "    </tr>\n",
       "  </thead>\n",
       "  <tbody>\n",
       "    <tr>\n",
       "      <th>0</th>\n",
       "      <td>Ananth</td>\n",
       "      <td>95</td>\n",
       "      <td>male</td>\n",
       "      <td>data science</td>\n",
       "      <td>Sri Lanka</td>\n",
       "      <td>True</td>\n",
       "      <td>1.0</td>\n",
       "      <td>False</td>\n",
       "    </tr>\n",
       "    <tr>\n",
       "      <th>1</th>\n",
       "      <td>John</td>\n",
       "      <td>15</td>\n",
       "      <td>male</td>\n",
       "      <td>machine learning</td>\n",
       "      <td>United Kingdom</td>\n",
       "      <td>False</td>\n",
       "      <td>0.0</td>\n",
       "      <td>False</td>\n",
       "    </tr>\n",
       "    <tr>\n",
       "      <th>2</th>\n",
       "      <td>Wong</td>\n",
       "      <td>26</td>\n",
       "      <td>female</td>\n",
       "      <td>front end designing</td>\n",
       "      <td>China</td>\n",
       "      <td>False</td>\n",
       "      <td>3.0</td>\n",
       "      <td>False</td>\n",
       "    </tr>\n",
       "    <tr>\n",
       "      <th>3</th>\n",
       "      <td>Souza</td>\n",
       "      <td>30</td>\n",
       "      <td>trans</td>\n",
       "      <td>UI and UX</td>\n",
       "      <td>Netherlands</td>\n",
       "      <td>False</td>\n",
       "      <td>7.0</td>\n",
       "      <td>False</td>\n",
       "    </tr>\n",
       "    <tr>\n",
       "      <th>4</th>\n",
       "      <td>Shaaruk</td>\n",
       "      <td>30</td>\n",
       "      <td>male</td>\n",
       "      <td>3D modelling</td>\n",
       "      <td>USA</td>\n",
       "      <td>True</td>\n",
       "      <td>2.0</td>\n",
       "      <td>False</td>\n",
       "    </tr>\n",
       "    <tr>\n",
       "      <th>5</th>\n",
       "      <td>Bruce</td>\n",
       "      <td>27</td>\n",
       "      <td>male</td>\n",
       "      <td>automation</td>\n",
       "      <td>India</td>\n",
       "      <td>False</td>\n",
       "      <td>0.5</td>\n",
       "      <td>False</td>\n",
       "    </tr>\n",
       "    <tr>\n",
       "      <th>9</th>\n",
       "      <td>Megan</td>\n",
       "      <td>37</td>\n",
       "      <td>female</td>\n",
       "      <td>digital art</td>\n",
       "      <td>USA</td>\n",
       "      <td>True</td>\n",
       "      <td>4.0</td>\n",
       "      <td>False</td>\n",
       "    </tr>\n",
       "  </tbody>\n",
       "</table>\n",
       "</div>"
      ],
      "text/plain": [
       "      name  age  gender                skill         country is_disabled  \\\n",
       "0   Ananth   95    male         data science       Sri Lanka        True   \n",
       "1     John   15    male     machine learning  United Kingdom       False   \n",
       "2     Wong   26  female  front end designing           China       False   \n",
       "3    Souza   30   trans            UI and UX     Netherlands       False   \n",
       "4  Shaaruk   30    male         3D modelling             USA        True   \n",
       "5    Bruce   27    male           automation           India       False   \n",
       "9    Megan   37  female          digital art             USA        True   \n",
       "\n",
       "   experience  criminal_record  \n",
       "0         1.0            False  \n",
       "1         0.0            False  \n",
       "2         3.0            False  \n",
       "3         7.0            False  \n",
       "4         2.0            False  \n",
       "5         0.5            False  \n",
       "9         4.0            False  "
      ]
     },
     "metadata": {},
     "output_type": "display_data"
    }
   ],
   "source": [
    "# Insert a column at a certain location\n",
    "dfuser.insert(\n",
    "    loc=2,\n",
    "    column=\"gender\",\n",
    "    value=[\"male\", \"male\", \"female\", \"trans\", \"male\", \"male\", \"female\"],\n",
    ")\n",
    "display(dfuser)"
   ]
  },
  {
   "cell_type": "markdown",
   "metadata": {},
   "source": [
    "#### Deleting columns\n"
   ]
  },
  {
   "cell_type": "code",
   "execution_count": 181,
   "metadata": {},
   "outputs": [
    {
     "data": {
      "text/html": [
       "<div>\n",
       "<style scoped>\n",
       "    .dataframe tbody tr th:only-of-type {\n",
       "        vertical-align: middle;\n",
       "    }\n",
       "\n",
       "    .dataframe tbody tr th {\n",
       "        vertical-align: top;\n",
       "    }\n",
       "\n",
       "    .dataframe thead th {\n",
       "        text-align: right;\n",
       "    }\n",
       "</style>\n",
       "<table border=\"1\" class=\"dataframe\">\n",
       "  <thead>\n",
       "    <tr style=\"text-align: right;\">\n",
       "      <th></th>\n",
       "      <th>name</th>\n",
       "      <th>age</th>\n",
       "      <th>gender</th>\n",
       "      <th>skill</th>\n",
       "      <th>country</th>\n",
       "      <th>is_disabled</th>\n",
       "      <th>experience</th>\n",
       "    </tr>\n",
       "  </thead>\n",
       "  <tbody>\n",
       "    <tr>\n",
       "      <th>0</th>\n",
       "      <td>Ananth</td>\n",
       "      <td>95</td>\n",
       "      <td>male</td>\n",
       "      <td>data science</td>\n",
       "      <td>Sri Lanka</td>\n",
       "      <td>True</td>\n",
       "      <td>1.0</td>\n",
       "    </tr>\n",
       "    <tr>\n",
       "      <th>1</th>\n",
       "      <td>John</td>\n",
       "      <td>15</td>\n",
       "      <td>male</td>\n",
       "      <td>machine learning</td>\n",
       "      <td>United Kingdom</td>\n",
       "      <td>False</td>\n",
       "      <td>0.0</td>\n",
       "    </tr>\n",
       "    <tr>\n",
       "      <th>2</th>\n",
       "      <td>Wong</td>\n",
       "      <td>26</td>\n",
       "      <td>female</td>\n",
       "      <td>front end designing</td>\n",
       "      <td>China</td>\n",
       "      <td>False</td>\n",
       "      <td>3.0</td>\n",
       "    </tr>\n",
       "    <tr>\n",
       "      <th>3</th>\n",
       "      <td>Souza</td>\n",
       "      <td>30</td>\n",
       "      <td>trans</td>\n",
       "      <td>UI and UX</td>\n",
       "      <td>Netherlands</td>\n",
       "      <td>False</td>\n",
       "      <td>7.0</td>\n",
       "    </tr>\n",
       "    <tr>\n",
       "      <th>4</th>\n",
       "      <td>Shaaruk</td>\n",
       "      <td>30</td>\n",
       "      <td>male</td>\n",
       "      <td>3D modelling</td>\n",
       "      <td>USA</td>\n",
       "      <td>True</td>\n",
       "      <td>2.0</td>\n",
       "    </tr>\n",
       "    <tr>\n",
       "      <th>5</th>\n",
       "      <td>Bruce</td>\n",
       "      <td>27</td>\n",
       "      <td>male</td>\n",
       "      <td>automation</td>\n",
       "      <td>India</td>\n",
       "      <td>False</td>\n",
       "      <td>0.5</td>\n",
       "    </tr>\n",
       "    <tr>\n",
       "      <th>9</th>\n",
       "      <td>Megan</td>\n",
       "      <td>37</td>\n",
       "      <td>female</td>\n",
       "      <td>digital art</td>\n",
       "      <td>USA</td>\n",
       "      <td>True</td>\n",
       "      <td>4.0</td>\n",
       "    </tr>\n",
       "  </tbody>\n",
       "</table>\n",
       "</div>"
      ],
      "text/plain": [
       "      name  age  gender                skill         country is_disabled  \\\n",
       "0   Ananth   95    male         data science       Sri Lanka        True   \n",
       "1     John   15    male     machine learning  United Kingdom       False   \n",
       "2     Wong   26  female  front end designing           China       False   \n",
       "3    Souza   30   trans            UI and UX     Netherlands       False   \n",
       "4  Shaaruk   30    male         3D modelling             USA        True   \n",
       "5    Bruce   27    male           automation           India       False   \n",
       "9    Megan   37  female          digital art             USA        True   \n",
       "\n",
       "   experience  \n",
       "0         1.0  \n",
       "1         0.0  \n",
       "2         3.0  \n",
       "3         7.0  \n",
       "4         2.0  \n",
       "5         0.5  \n",
       "9         4.0  "
      ]
     },
     "metadata": {},
     "output_type": "display_data"
    }
   ],
   "source": [
    "# Delete one or more columns, similar to a dictionary op\n",
    "del dfuser[\"criminal_record\"]\n",
    "display(dfuser)"
   ]
  },
  {
   "cell_type": "code",
   "execution_count": 182,
   "metadata": {},
   "outputs": [
    {
     "data": {
      "text/plain": [
       "0      male\n",
       "1      male\n",
       "2    female\n",
       "3     trans\n",
       "4      male\n",
       "5      male\n",
       "9    female\n",
       "Name: gender, dtype: object"
      ]
     },
     "metadata": {},
     "output_type": "display_data"
    }
   ],
   "source": [
    "# Delete a column and use it elsewhere if needed\n",
    "display(dfuser.pop(\"gender\"))"
   ]
  },
  {
   "cell_type": "code",
   "execution_count": 183,
   "metadata": {},
   "outputs": [
    {
     "data": {
      "text/html": [
       "<div>\n",
       "<style scoped>\n",
       "    .dataframe tbody tr th:only-of-type {\n",
       "        vertical-align: middle;\n",
       "    }\n",
       "\n",
       "    .dataframe tbody tr th {\n",
       "        vertical-align: top;\n",
       "    }\n",
       "\n",
       "    .dataframe thead th {\n",
       "        text-align: right;\n",
       "    }\n",
       "</style>\n",
       "<table border=\"1\" class=\"dataframe\">\n",
       "  <thead>\n",
       "    <tr style=\"text-align: right;\">\n",
       "      <th></th>\n",
       "      <th>name</th>\n",
       "      <th>age</th>\n",
       "      <th>skill</th>\n",
       "      <th>country</th>\n",
       "      <th>is_disabled</th>\n",
       "    </tr>\n",
       "  </thead>\n",
       "  <tbody>\n",
       "    <tr>\n",
       "      <th>0</th>\n",
       "      <td>Ananth</td>\n",
       "      <td>95</td>\n",
       "      <td>data science</td>\n",
       "      <td>Sri Lanka</td>\n",
       "      <td>True</td>\n",
       "    </tr>\n",
       "    <tr>\n",
       "      <th>1</th>\n",
       "      <td>John</td>\n",
       "      <td>15</td>\n",
       "      <td>machine learning</td>\n",
       "      <td>United Kingdom</td>\n",
       "      <td>False</td>\n",
       "    </tr>\n",
       "    <tr>\n",
       "      <th>2</th>\n",
       "      <td>Wong</td>\n",
       "      <td>26</td>\n",
       "      <td>front end designing</td>\n",
       "      <td>China</td>\n",
       "      <td>False</td>\n",
       "    </tr>\n",
       "    <tr>\n",
       "      <th>3</th>\n",
       "      <td>Souza</td>\n",
       "      <td>30</td>\n",
       "      <td>UI and UX</td>\n",
       "      <td>Netherlands</td>\n",
       "      <td>False</td>\n",
       "    </tr>\n",
       "    <tr>\n",
       "      <th>4</th>\n",
       "      <td>Shaaruk</td>\n",
       "      <td>30</td>\n",
       "      <td>3D modelling</td>\n",
       "      <td>USA</td>\n",
       "      <td>True</td>\n",
       "    </tr>\n",
       "    <tr>\n",
       "      <th>5</th>\n",
       "      <td>Bruce</td>\n",
       "      <td>27</td>\n",
       "      <td>automation</td>\n",
       "      <td>India</td>\n",
       "      <td>False</td>\n",
       "    </tr>\n",
       "    <tr>\n",
       "      <th>9</th>\n",
       "      <td>Megan</td>\n",
       "      <td>37</td>\n",
       "      <td>digital art</td>\n",
       "      <td>USA</td>\n",
       "      <td>True</td>\n",
       "    </tr>\n",
       "  </tbody>\n",
       "</table>\n",
       "</div>"
      ],
      "text/plain": [
       "      name  age                skill         country is_disabled\n",
       "0   Ananth   95         data science       Sri Lanka        True\n",
       "1     John   15     machine learning  United Kingdom       False\n",
       "2     Wong   26  front end designing           China       False\n",
       "3    Souza   30            UI and UX     Netherlands       False\n",
       "4  Shaaruk   30         3D modelling             USA        True\n",
       "5    Bruce   27           automation           India       False\n",
       "9    Megan   37          digital art             USA        True"
      ]
     },
     "metadata": {},
     "output_type": "display_data"
    }
   ],
   "source": [
    "# Also drop method can be used\n",
    "display(dfuser.drop(labels=\"experience\", axis=1))"
   ]
  },
  {
   "cell_type": "code",
   "execution_count": 184,
   "metadata": {},
   "outputs": [
    {
     "data": {
      "text/html": [
       "<div>\n",
       "<style scoped>\n",
       "    .dataframe tbody tr th:only-of-type {\n",
       "        vertical-align: middle;\n",
       "    }\n",
       "\n",
       "    .dataframe tbody tr th {\n",
       "        vertical-align: top;\n",
       "    }\n",
       "\n",
       "    .dataframe thead th {\n",
       "        text-align: right;\n",
       "    }\n",
       "</style>\n",
       "<table border=\"1\" class=\"dataframe\">\n",
       "  <thead>\n",
       "    <tr style=\"text-align: right;\">\n",
       "      <th></th>\n",
       "      <th>name</th>\n",
       "      <th>age</th>\n",
       "      <th>skill</th>\n",
       "      <th>country</th>\n",
       "      <th>is_disabled</th>\n",
       "    </tr>\n",
       "  </thead>\n",
       "  <tbody>\n",
       "    <tr>\n",
       "      <th>0</th>\n",
       "      <td>Ananth</td>\n",
       "      <td>95</td>\n",
       "      <td>data science</td>\n",
       "      <td>Sri Lanka</td>\n",
       "      <td>True</td>\n",
       "    </tr>\n",
       "    <tr>\n",
       "      <th>1</th>\n",
       "      <td>John</td>\n",
       "      <td>15</td>\n",
       "      <td>machine learning</td>\n",
       "      <td>United Kingdom</td>\n",
       "      <td>False</td>\n",
       "    </tr>\n",
       "    <tr>\n",
       "      <th>2</th>\n",
       "      <td>Wong</td>\n",
       "      <td>26</td>\n",
       "      <td>front end designing</td>\n",
       "      <td>China</td>\n",
       "      <td>False</td>\n",
       "    </tr>\n",
       "    <tr>\n",
       "      <th>3</th>\n",
       "      <td>Souza</td>\n",
       "      <td>30</td>\n",
       "      <td>UI and UX</td>\n",
       "      <td>Netherlands</td>\n",
       "      <td>False</td>\n",
       "    </tr>\n",
       "    <tr>\n",
       "      <th>4</th>\n",
       "      <td>Shaaruk</td>\n",
       "      <td>30</td>\n",
       "      <td>3D modelling</td>\n",
       "      <td>USA</td>\n",
       "      <td>True</td>\n",
       "    </tr>\n",
       "    <tr>\n",
       "      <th>5</th>\n",
       "      <td>Bruce</td>\n",
       "      <td>27</td>\n",
       "      <td>automation</td>\n",
       "      <td>India</td>\n",
       "      <td>False</td>\n",
       "    </tr>\n",
       "    <tr>\n",
       "      <th>9</th>\n",
       "      <td>Megan</td>\n",
       "      <td>37</td>\n",
       "      <td>digital art</td>\n",
       "      <td>USA</td>\n",
       "      <td>True</td>\n",
       "    </tr>\n",
       "  </tbody>\n",
       "</table>\n",
       "</div>"
      ],
      "text/plain": [
       "      name  age                skill         country is_disabled\n",
       "0   Ananth   95         data science       Sri Lanka        True\n",
       "1     John   15     machine learning  United Kingdom       False\n",
       "2     Wong   26  front end designing           China       False\n",
       "3    Souza   30            UI and UX     Netherlands       False\n",
       "4  Shaaruk   30         3D modelling             USA        True\n",
       "5    Bruce   27           automation           India       False\n",
       "9    Megan   37          digital art             USA        True"
      ]
     },
     "metadata": {},
     "output_type": "display_data"
    }
   ],
   "source": [
    "# Equivalent to above cell\n",
    "display(dfuser.drop(columns=\"experience\"))"
   ]
  }
 ],
 "metadata": {
  "interpreter": {
   "hash": "e22e22d4bf09dfc6961bcf6daa4db45bd22612cafcc764faaa0db985f3deb083"
  },
  "kernelspec": {
   "display_name": "Python 3.9.10 ('dst')",
   "language": "python",
   "name": "python3"
  },
  "language_info": {
   "codemirror_mode": {
    "name": "ipython",
    "version": 3
   },
   "file_extension": ".py",
   "mimetype": "text/x-python",
   "name": "python",
   "nbconvert_exporter": "python",
   "pygments_lexer": "ipython3",
   "version": "3.9.12"
  },
  "orig_nbformat": 4
 },
 "nbformat": 4,
 "nbformat_minor": 2
}
